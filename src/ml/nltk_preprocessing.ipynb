{
 "cells": [
  {
   "cell_type": "code",
   "execution_count": 68,
   "id": "initial_id",
   "metadata": {
    "ExecuteTime": {
     "end_time": "2025-01-15T10:28:49.792398Z",
     "start_time": "2025-01-15T10:28:49.786400Z"
    },
    "collapsed": true
   },
   "outputs": [],
   "source": [
    "import os\n",
    "import pandas as pd\n",
    "import nltk"
   ]
  },
  {
   "cell_type": "code",
   "execution_count": 69,
   "id": "be81b1eda2717c1b",
   "metadata": {
    "ExecuteTime": {
     "end_time": "2025-01-15T10:28:50.470665Z",
     "start_time": "2025-01-15T10:28:50.462695Z"
    }
   },
   "outputs": [],
   "source": [
    "BASE_DIR = os.getcwd()\n",
    "DIRECTORY_PATH = os.path.dirname(BASE_DIR)\n",
    "DF_PATH = DIRECTORY_PATH + \"/parser/dataframes/main_df.csv\""
   ]
  },
  {
   "cell_type": "code",
   "execution_count": 70,
   "id": "69b6d55047fc4924",
   "metadata": {
    "ExecuteTime": {
     "end_time": "2025-01-15T10:28:51.733039Z",
     "start_time": "2025-01-15T10:28:51.702039Z"
    }
   },
   "outputs": [],
   "source": [
    "df = pd.read_csv(DF_PATH)\n",
    "df = df.copy()"
   ]
  },
  {
   "cell_type": "markdown",
   "id": "6a05d941b38690de",
   "metadata": {},
   "source": [
    "# NLTK"
   ]
  },
  {
   "cell_type": "code",
   "execution_count": 71,
   "id": "1447a884ad73acba",
   "metadata": {
    "ExecuteTime": {
     "end_time": "2025-01-15T10:28:54.812691Z",
     "start_time": "2025-01-15T10:28:54.805690Z"
    }
   },
   "outputs": [
    {
     "name": "stderr",
     "output_type": "stream",
     "text": [
      "[nltk_data] Downloading package punkt_tab to /home/ammrr/nltk_data...\n",
      "[nltk_data]   Package punkt_tab is already up-to-date!\n",
      "[nltk_data] Downloading package punkt to /home/ammrr/nltk_data...\n",
      "[nltk_data]   Package punkt is already up-to-date!\n",
      "[nltk_data] Downloading package stopwords to /home/ammrr/nltk_data...\n",
      "[nltk_data]   Package stopwords is already up-to-date!\n"
     ]
    },
    {
     "data": {
      "text/plain": [
       "True"
      ]
     },
     "execution_count": 71,
     "metadata": {},
     "output_type": "execute_result"
    }
   ],
   "source": [
    "nltk.download('punkt_tab')\n",
    "nltk.download('punkt')\n",
    "nltk.download('stopwords')"
   ]
  },
  {
   "cell_type": "code",
   "execution_count": 72,
   "id": "fb646d1f4a784f0f",
   "metadata": {
    "ExecuteTime": {
     "end_time": "2025-01-15T10:28:55.922194Z",
     "start_time": "2025-01-15T10:28:55.906396Z"
    }
   },
   "outputs": [],
   "source": [
    "reviews = df['User review'].values"
   ]
  },
  {
   "cell_type": "markdown",
   "id": "3a22b49bec6856",
   "metadata": {},
   "source": [
    "# Приведение к нижнему регистру"
   ]
  },
  {
   "cell_type": "code",
   "execution_count": 73,
   "id": "c6b577af8f55f9df",
   "metadata": {
    "ExecuteTime": {
     "end_time": "2025-01-15T10:28:57.470827Z",
     "start_time": "2025-01-15T10:28:57.464827Z"
    }
   },
   "outputs": [],
   "source": [
    "for index, review in enumerate(reviews):\n",
    "    reviews[index] = review.lower()"
   ]
  },
  {
   "cell_type": "markdown",
   "id": "1956f6a83bc5f01d",
   "metadata": {},
   "source": [
    "# Токенизация текста"
   ]
  },
  {
   "cell_type": "code",
   "execution_count": 74,
   "id": "a00e0610a39f9792",
   "metadata": {
    "ExecuteTime": {
     "end_time": "2025-01-15T10:28:58.909108Z",
     "start_time": "2025-01-15T10:28:58.483080Z"
    }
   },
   "outputs": [],
   "source": [
    "from nltk.tokenize import word_tokenize\n",
    "\n",
    "for index, review in enumerate(reviews):\n",
    "    tokens = word_tokenize(review)\n",
    "    tokens = [word for word in tokens]\n",
    "    reviews[index] = tokens"
   ]
  },
  {
   "cell_type": "code",
   "execution_count": 75,
   "id": "e91a72bc4685537d",
   "metadata": {
    "ExecuteTime": {
     "end_time": "2025-01-15T10:28:59.551097Z",
     "start_time": "2025-01-15T10:28:59.537326Z"
    }
   },
   "outputs": [
    {
     "data": {
      "text/plain": [
       "['достоинства', 'все', 'устроило', 'нормальная', 'демисезонка']"
      ]
     },
     "execution_count": 75,
     "metadata": {},
     "output_type": "execute_result"
    }
   ],
   "source": [
    "# reviews[15]\n",
    "reviews[0]"
   ]
  },
  {
   "cell_type": "markdown",
   "id": "fe04012ffa369348",
   "metadata": {},
   "source": [
    "# Stop words"
   ]
  },
  {
   "cell_type": "code",
   "execution_count": 76,
   "id": "77ce81549f338e2d",
   "metadata": {
    "ExecuteTime": {
     "end_time": "2025-01-15T10:29:00.771354Z",
     "start_time": "2025-01-15T10:29:00.757357Z"
    }
   },
   "outputs": [],
   "source": [
    "from nltk.corpus import stopwords\n",
    "from nltk.tokenize import word_tokenize\n",
    "stop_words = set(stopwords.words('russian'))\n",
    "exceptions = {\n",
    "    \"не\", \"ни\", \"нет\", \"да\", \"или\", \"и\", \"так\", \"потому\", \"что\", \"когда\", \n",
    "    \"где\", \"кто\", \"что\", \"как\", \"зачем\", \"почему\", \"будто\", \"бы\", \"вдруг\", \n",
    "    \"пусть\", \"тоже\", \"все\", \"всё\", \"этот\", \"та\", \"такой\", \"сам\", \"только\", \n",
    "    \"другой\", \"ещё\", \"возможно\", \"почему\", \"впрочем\", \"хотя\", \"тем\", \"вместо\", \n",
    "    \"между\", \"также\", \"тогда\", \"вдобавок\", \"после\", \"перед\", \"наоборот\", \n",
    "    \"поэтому\", \"то\", \"тогда\", \"когда\", \"если\", \"даже\", \"включая\", \"совсем\", \n",
    "    \"именно\", \"через\", \"сейчас\", \"когда\", \"будет\", \"для\", \"от\", \"среди\"\n",
    "}"
   ]
  },
  {
   "cell_type": "code",
   "execution_count": 77,
   "id": "6b41d2bbd19228b5",
   "metadata": {
    "ExecuteTime": {
     "end_time": "2025-01-15T10:29:02.976002Z",
     "start_time": "2025-01-15T10:29:02.967004Z"
    }
   },
   "outputs": [],
   "source": [
    "for tokens in reviews:\n",
    "    for token in tokens:\n",
    "        if token in stop_words and token not in exceptions:\n",
    "            tokens.remove(token)"
   ]
  },
  {
   "cell_type": "code",
   "execution_count": 78,
   "id": "26638babf5e58907",
   "metadata": {
    "ExecuteTime": {
     "end_time": "2025-01-15T10:29:03.602037Z",
     "start_time": "2025-01-15T10:29:03.593038Z"
    }
   },
   "outputs": [
    {
     "data": {
      "text/plain": [
       "['курутая',\n",
       " ',',\n",
       " 'балдею',\n",
       " 'ней',\n",
       " '.',\n",
       " 'продувает',\n",
       " 'ветре',\n",
       " ',',\n",
       " '-',\n",
       " '5.',\n",
       " 'транспорте',\n",
       " 'не',\n",
       " 'жарко',\n",
       " '.']"
      ]
     },
     "execution_count": 78,
     "metadata": {},
     "output_type": "execute_result"
    }
   ],
   "source": [
    "reviews[15]"
   ]
  },
  {
   "cell_type": "markdown",
   "id": "b1694d1d74889d8a",
   "metadata": {},
   "source": [
    "# Лемматизация"
   ]
  },
  {
   "cell_type": "code",
   "execution_count": 79,
   "id": "1d69ebf745ce360a",
   "metadata": {
    "ExecuteTime": {
     "end_time": "2025-01-15T10:29:05.120821Z",
     "start_time": "2025-01-15T10:29:05.042821Z"
    }
   },
   "outputs": [
    {
     "name": "stderr",
     "output_type": "stream",
     "text": [
      "[nltk_data] Downloading package omw-1.4 to /home/ammrr/nltk_data...\n",
      "[nltk_data]   Package omw-1.4 is already up-to-date!\n"
     ]
    },
    {
     "data": {
      "text/plain": [
       "True"
      ]
     },
     "execution_count": 79,
     "metadata": {},
     "output_type": "execute_result"
    }
   ],
   "source": [
    "nltk.download('omw-1.4')"
   ]
  },
  {
   "cell_type": "code",
   "execution_count": 80,
   "id": "ffeaa247bf220c0a",
   "metadata": {
    "ExecuteTime": {
     "end_time": "2025-01-15T10:29:06.409311Z",
     "start_time": "2025-01-15T10:29:05.835311Z"
    }
   },
   "outputs": [],
   "source": [
    "import pymorphy2\n",
    "\n",
    "morph = pymorphy2.MorphAnalyzer()"
   ]
  },
  {
   "cell_type": "code",
   "execution_count": 81,
   "id": "f448d2694ed137b7",
   "metadata": {
    "ExecuteTime": {
     "end_time": "2025-01-15T10:29:06.411311Z",
     "start_time": "2025-01-15T10:29:06.410312Z"
    }
   },
   "outputs": [],
   "source": [
    "for tokens in reviews:\n",
    "    for index, token in enumerate(tokens):\n",
    "        lemma = morph.parse(token)[0].normal_form\n",
    "        tokens[index] = lemma\n",
    "# for index, review in enumerate(reviews):\n",
    "#     words = word_tokenize(review)\n",
    "#     stemmed_words = [morph.parse(word)[0].normal_form for word in words]\n",
    "#     result_review = ' '.join(stemmed_words)\n",
    "#     reviews[index] = result_review"
   ]
  },
  {
   "cell_type": "code",
   "execution_count": 82,
   "id": "134b1c0355954899",
   "metadata": {
    "ExecuteTime": {
     "end_time": "2025-01-15T10:29:08.260430Z",
     "start_time": "2025-01-15T10:29:08.246397Z"
    }
   },
   "outputs": [
    {
     "data": {
      "text/plain": [
       "['хороший', 'куртка', 'и', 'пошить']"
      ]
     },
     "execution_count": 82,
     "metadata": {},
     "output_type": "execute_result"
    }
   ],
   "source": [
    "reviews[12]"
   ]
  },
  {
   "cell_type": "code",
   "execution_count": 83,
   "id": "c9979b903ada9018",
   "metadata": {
    "ExecuteTime": {
     "end_time": "2025-01-15T10:29:10.396951Z",
     "start_time": "2025-01-15T10:29:10.381955Z"
    }
   },
   "outputs": [],
   "source": [
    "reviews = list(reviews)"
   ]
  },
  {
   "cell_type": "code",
   "execution_count": 84,
   "id": "588d21e40ac34edf",
   "metadata": {
    "ExecuteTime": {
     "end_time": "2025-01-15T10:29:11.593792Z",
     "start_time": "2025-01-15T10:29:11.571529Z"
    }
   },
   "outputs": [
    {
     "data": {
      "text/html": [
       "<div>\n",
       "<style scoped>\n",
       "    .dataframe tbody tr th:only-of-type {\n",
       "        vertical-align: middle;\n",
       "    }\n",
       "\n",
       "    .dataframe tbody tr th {\n",
       "        vertical-align: top;\n",
       "    }\n",
       "\n",
       "    .dataframe thead th {\n",
       "        text-align: right;\n",
       "    }\n",
       "</style>\n",
       "<table border=\"1\" class=\"dataframe\">\n",
       "  <thead>\n",
       "    <tr style=\"text-align: right;\">\n",
       "      <th></th>\n",
       "      <th>Unnamed: 0</th>\n",
       "      <th>User review</th>\n",
       "      <th>Review date</th>\n",
       "      <th>Star review</th>\n",
       "      <th>Text length</th>\n",
       "      <th>Has media</th>\n",
       "      <th>Has answer</th>\n",
       "      <th>Written by bot</th>\n",
       "    </tr>\n",
       "  </thead>\n",
       "  <tbody>\n",
       "    <tr>\n",
       "      <th>0</th>\n",
       "      <td>0.0</td>\n",
       "      <td>[достоинство, всё, устроить, нормальный, демис...</td>\n",
       "      <td>2024-10-09</td>\n",
       "      <td>5</td>\n",
       "      <td>54</td>\n",
       "      <td>0</td>\n",
       "      <td>0</td>\n",
       "      <td>0</td>\n",
       "    </tr>\n",
       "    <tr>\n",
       "      <th>1</th>\n",
       "      <td>1.0</td>\n",
       "      <td>[шикарный, ,, начитаться, отзыв, ,, рискнуть, ...</td>\n",
       "      <td>2024-10-09</td>\n",
       "      <td>5</td>\n",
       "      <td>195</td>\n",
       "      <td>0</td>\n",
       "      <td>0</td>\n",
       "      <td>0</td>\n",
       "    </tr>\n",
       "    <tr>\n",
       "      <th>2</th>\n",
       "      <td>2.0</td>\n",
       "      <td>[дочка, понравиться]</td>\n",
       "      <td>2024-10-09</td>\n",
       "      <td>5</td>\n",
       "      <td>17</td>\n",
       "      <td>0</td>\n",
       "      <td>0</td>\n",
       "      <td>0</td>\n",
       "    </tr>\n",
       "    <tr>\n",
       "      <th>3</th>\n",
       "      <td>3.0</td>\n",
       "      <td>[пока, не, одевать, ,, то, что, хотеть]</td>\n",
       "      <td>2024-10-09</td>\n",
       "      <td>5</td>\n",
       "      <td>33</td>\n",
       "      <td>0</td>\n",
       "      <td>0</td>\n",
       "      <td>0</td>\n",
       "    </tr>\n",
       "    <tr>\n",
       "      <th>4</th>\n",
       "      <td>4.0</td>\n",
       "      <td>[отличный, куртка]</td>\n",
       "      <td>2024-10-09</td>\n",
       "      <td>5</td>\n",
       "      <td>15</td>\n",
       "      <td>0</td>\n",
       "      <td>0</td>\n",
       "      <td>0</td>\n",
       "    </tr>\n",
       "    <tr>\n",
       "      <th>...</th>\n",
       "      <td>...</td>\n",
       "      <td>...</td>\n",
       "      <td>...</td>\n",
       "      <td>...</td>\n",
       "      <td>...</td>\n",
       "      <td>...</td>\n",
       "      <td>...</td>\n",
       "      <td>...</td>\n",
       "    </tr>\n",
       "    <tr>\n",
       "      <th>2999</th>\n",
       "      <td>56.0</td>\n",
       "      <td>[гриль, хороший, ,, сложно, чистить, решётка, ...</td>\n",
       "      <td>2024-10-06</td>\n",
       "      <td>4</td>\n",
       "      <td>76</td>\n",
       "      <td>1</td>\n",
       "      <td>1</td>\n",
       "      <td>0</td>\n",
       "    </tr>\n",
       "    <tr>\n",
       "      <th>3000</th>\n",
       "      <td>57.0</td>\n",
       "      <td>[тостер, работать, нормально, ,, крутилка, сли...</td>\n",
       "      <td>2024-12-08</td>\n",
       "      <td>3</td>\n",
       "      <td>75</td>\n",
       "      <td>0</td>\n",
       "      <td>1</td>\n",
       "      <td>0</td>\n",
       "    </tr>\n",
       "    <tr>\n",
       "      <th>3001</th>\n",
       "      <td>58.0</td>\n",
       "      <td>[чайник, хороший, ,, крышка, чут-чуть, заедать...</td>\n",
       "      <td>2024-12-13</td>\n",
       "      <td>4</td>\n",
       "      <td>73</td>\n",
       "      <td>0</td>\n",
       "      <td>1</td>\n",
       "      <td>0</td>\n",
       "    </tr>\n",
       "    <tr>\n",
       "      <th>3002</th>\n",
       "      <td>59.0</td>\n",
       "      <td>[принтер, печатать, ,, иногда, картридж, не, с...</td>\n",
       "      <td>2024-11-21</td>\n",
       "      <td>4</td>\n",
       "      <td>69</td>\n",
       "      <td>0</td>\n",
       "      <td>1</td>\n",
       "      <td>0</td>\n",
       "    </tr>\n",
       "    <tr>\n",
       "      <th>3003</th>\n",
       "      <td>60.0</td>\n",
       "      <td>[смартфон, нормальный, ,, экран, немой, тускло...</td>\n",
       "      <td>2024-10-30</td>\n",
       "      <td>3</td>\n",
       "      <td>55</td>\n",
       "      <td>1</td>\n",
       "      <td>0</td>\n",
       "      <td>0</td>\n",
       "    </tr>\n",
       "  </tbody>\n",
       "</table>\n",
       "<p>3004 rows × 8 columns</p>\n",
       "</div>"
      ],
      "text/plain": [
       "      Unnamed: 0                                        User review  \\\n",
       "0            0.0  [достоинство, всё, устроить, нормальный, демис...   \n",
       "1            1.0  [шикарный, ,, начитаться, отзыв, ,, рискнуть, ...   \n",
       "2            2.0                               [дочка, понравиться]   \n",
       "3            3.0            [пока, не, одевать, ,, то, что, хотеть]   \n",
       "4            4.0                                 [отличный, куртка]   \n",
       "...          ...                                                ...   \n",
       "2999        56.0  [гриль, хороший, ,, сложно, чистить, решётка, ...   \n",
       "3000        57.0  [тостер, работать, нормально, ,, крутилка, сли...   \n",
       "3001        58.0  [чайник, хороший, ,, крышка, чут-чуть, заедать...   \n",
       "3002        59.0  [принтер, печатать, ,, иногда, картридж, не, с...   \n",
       "3003        60.0  [смартфон, нормальный, ,, экран, немой, тускло...   \n",
       "\n",
       "     Review date  Star review  Text length Has media  Has answer  \\\n",
       "0     2024-10-09            5           54         0           0   \n",
       "1     2024-10-09            5          195         0           0   \n",
       "2     2024-10-09            5           17         0           0   \n",
       "3     2024-10-09            5           33         0           0   \n",
       "4     2024-10-09            5           15         0           0   \n",
       "...          ...          ...          ...       ...         ...   \n",
       "2999  2024-10-06            4           76         1           1   \n",
       "3000  2024-12-08            3           75         0           1   \n",
       "3001  2024-12-13            4           73         0           1   \n",
       "3002  2024-11-21            4           69         0           1   \n",
       "3003  2024-10-30            3           55         1           0   \n",
       "\n",
       "      Written by bot  \n",
       "0                  0  \n",
       "1                  0  \n",
       "2                  0  \n",
       "3                  0  \n",
       "4                  0  \n",
       "...              ...  \n",
       "2999               0  \n",
       "3000               0  \n",
       "3001               0  \n",
       "3002               0  \n",
       "3003               0  \n",
       "\n",
       "[3004 rows x 8 columns]"
      ]
     },
     "execution_count": 84,
     "metadata": {},
     "output_type": "execute_result"
    }
   ],
   "source": [
    "df"
   ]
  },
  {
   "cell_type": "code",
   "execution_count": 85,
   "id": "496ce9881d6e08b5",
   "metadata": {
    "ExecuteTime": {
     "end_time": "2025-01-15T10:29:12.451382Z",
     "start_time": "2025-01-15T10:29:12.437383Z"
    }
   },
   "outputs": [],
   "source": [
    "df = df.drop(columns=['Unnamed: 0'])"
   ]
  },
  {
   "cell_type": "code",
   "execution_count": 86,
   "id": "ba56317733ff1412",
   "metadata": {
    "ExecuteTime": {
     "end_time": "2025-01-15T10:29:13.130952Z",
     "start_time": "2025-01-15T10:29:13.117365Z"
    }
   },
   "outputs": [
    {
     "data": {
      "text/html": [
       "<div>\n",
       "<style scoped>\n",
       "    .dataframe tbody tr th:only-of-type {\n",
       "        vertical-align: middle;\n",
       "    }\n",
       "\n",
       "    .dataframe tbody tr th {\n",
       "        vertical-align: top;\n",
       "    }\n",
       "\n",
       "    .dataframe thead th {\n",
       "        text-align: right;\n",
       "    }\n",
       "</style>\n",
       "<table border=\"1\" class=\"dataframe\">\n",
       "  <thead>\n",
       "    <tr style=\"text-align: right;\">\n",
       "      <th></th>\n",
       "      <th>User review</th>\n",
       "      <th>Review date</th>\n",
       "      <th>Star review</th>\n",
       "      <th>Text length</th>\n",
       "      <th>Has media</th>\n",
       "      <th>Has answer</th>\n",
       "      <th>Written by bot</th>\n",
       "    </tr>\n",
       "  </thead>\n",
       "  <tbody>\n",
       "    <tr>\n",
       "      <th>0</th>\n",
       "      <td>[достоинство, всё, устроить, нормальный, демис...</td>\n",
       "      <td>2024-10-09</td>\n",
       "      <td>5</td>\n",
       "      <td>54</td>\n",
       "      <td>0</td>\n",
       "      <td>0</td>\n",
       "      <td>0</td>\n",
       "    </tr>\n",
       "    <tr>\n",
       "      <th>1</th>\n",
       "      <td>[шикарный, ,, начитаться, отзыв, ,, рискнуть, ...</td>\n",
       "      <td>2024-10-09</td>\n",
       "      <td>5</td>\n",
       "      <td>195</td>\n",
       "      <td>0</td>\n",
       "      <td>0</td>\n",
       "      <td>0</td>\n",
       "    </tr>\n",
       "    <tr>\n",
       "      <th>2</th>\n",
       "      <td>[дочка, понравиться]</td>\n",
       "      <td>2024-10-09</td>\n",
       "      <td>5</td>\n",
       "      <td>17</td>\n",
       "      <td>0</td>\n",
       "      <td>0</td>\n",
       "      <td>0</td>\n",
       "    </tr>\n",
       "    <tr>\n",
       "      <th>3</th>\n",
       "      <td>[пока, не, одевать, ,, то, что, хотеть]</td>\n",
       "      <td>2024-10-09</td>\n",
       "      <td>5</td>\n",
       "      <td>33</td>\n",
       "      <td>0</td>\n",
       "      <td>0</td>\n",
       "      <td>0</td>\n",
       "    </tr>\n",
       "    <tr>\n",
       "      <th>4</th>\n",
       "      <td>[отличный, куртка]</td>\n",
       "      <td>2024-10-09</td>\n",
       "      <td>5</td>\n",
       "      <td>15</td>\n",
       "      <td>0</td>\n",
       "      <td>0</td>\n",
       "      <td>0</td>\n",
       "    </tr>\n",
       "    <tr>\n",
       "      <th>...</th>\n",
       "      <td>...</td>\n",
       "      <td>...</td>\n",
       "      <td>...</td>\n",
       "      <td>...</td>\n",
       "      <td>...</td>\n",
       "      <td>...</td>\n",
       "      <td>...</td>\n",
       "    </tr>\n",
       "    <tr>\n",
       "      <th>2999</th>\n",
       "      <td>[гриль, хороший, ,, сложно, чистить, решётка, ...</td>\n",
       "      <td>2024-10-06</td>\n",
       "      <td>4</td>\n",
       "      <td>76</td>\n",
       "      <td>1</td>\n",
       "      <td>1</td>\n",
       "      <td>0</td>\n",
       "    </tr>\n",
       "    <tr>\n",
       "      <th>3000</th>\n",
       "      <td>[тостер, работать, нормально, ,, крутилка, сли...</td>\n",
       "      <td>2024-12-08</td>\n",
       "      <td>3</td>\n",
       "      <td>75</td>\n",
       "      <td>0</td>\n",
       "      <td>1</td>\n",
       "      <td>0</td>\n",
       "    </tr>\n",
       "    <tr>\n",
       "      <th>3001</th>\n",
       "      <td>[чайник, хороший, ,, крышка, чут-чуть, заедать...</td>\n",
       "      <td>2024-12-13</td>\n",
       "      <td>4</td>\n",
       "      <td>73</td>\n",
       "      <td>0</td>\n",
       "      <td>1</td>\n",
       "      <td>0</td>\n",
       "    </tr>\n",
       "    <tr>\n",
       "      <th>3002</th>\n",
       "      <td>[принтер, печатать, ,, иногда, картридж, не, с...</td>\n",
       "      <td>2024-11-21</td>\n",
       "      <td>4</td>\n",
       "      <td>69</td>\n",
       "      <td>0</td>\n",
       "      <td>1</td>\n",
       "      <td>0</td>\n",
       "    </tr>\n",
       "    <tr>\n",
       "      <th>3003</th>\n",
       "      <td>[смартфон, нормальный, ,, экран, немой, тускло...</td>\n",
       "      <td>2024-10-30</td>\n",
       "      <td>3</td>\n",
       "      <td>55</td>\n",
       "      <td>1</td>\n",
       "      <td>0</td>\n",
       "      <td>0</td>\n",
       "    </tr>\n",
       "  </tbody>\n",
       "</table>\n",
       "<p>3004 rows × 7 columns</p>\n",
       "</div>"
      ],
      "text/plain": [
       "                                            User review Review date  \\\n",
       "0     [достоинство, всё, устроить, нормальный, демис...  2024-10-09   \n",
       "1     [шикарный, ,, начитаться, отзыв, ,, рискнуть, ...  2024-10-09   \n",
       "2                                  [дочка, понравиться]  2024-10-09   \n",
       "3               [пока, не, одевать, ,, то, что, хотеть]  2024-10-09   \n",
       "4                                    [отличный, куртка]  2024-10-09   \n",
       "...                                                 ...         ...   \n",
       "2999  [гриль, хороший, ,, сложно, чистить, решётка, ...  2024-10-06   \n",
       "3000  [тостер, работать, нормально, ,, крутилка, сли...  2024-12-08   \n",
       "3001  [чайник, хороший, ,, крышка, чут-чуть, заедать...  2024-12-13   \n",
       "3002  [принтер, печатать, ,, иногда, картридж, не, с...  2024-11-21   \n",
       "3003  [смартфон, нормальный, ,, экран, немой, тускло...  2024-10-30   \n",
       "\n",
       "      Star review  Text length Has media  Has answer  Written by bot  \n",
       "0               5           54         0           0               0  \n",
       "1               5          195         0           0               0  \n",
       "2               5           17         0           0               0  \n",
       "3               5           33         0           0               0  \n",
       "4               5           15         0           0               0  \n",
       "...           ...          ...       ...         ...             ...  \n",
       "2999            4           76         1           1               0  \n",
       "3000            3           75         0           1               0  \n",
       "3001            4           73         0           1               0  \n",
       "3002            4           69         0           1               0  \n",
       "3003            3           55         1           0               0  \n",
       "\n",
       "[3004 rows x 7 columns]"
      ]
     },
     "execution_count": 86,
     "metadata": {},
     "output_type": "execute_result"
    }
   ],
   "source": [
    "df"
   ]
  },
  {
   "cell_type": "code",
   "execution_count": 23,
   "id": "d9fc946f841a942b",
   "metadata": {
    "ExecuteTime": {
     "end_time": "2025-01-15T10:29:14.140435Z",
     "start_time": "2025-01-15T10:29:14.126436Z"
    }
   },
   "outputs": [],
   "source": [
    "# df['Written by bot'] = df['Written by bot'].replace(\"True\", 1)\n",
    "# df['Written by bot'] = df['Written by bot'].replace(\"False\", 0)"
   ]
  },
  {
   "cell_type": "code",
   "execution_count": 51,
   "id": "c893ae2d4be36658",
   "metadata": {
    "ExecuteTime": {
     "end_time": "2025-01-15T10:29:14.705948Z",
     "start_time": "2025-01-15T10:29:14.684700Z"
    }
   },
   "outputs": [
    {
     "data": {
      "text/html": [
       "<div>\n",
       "<style scoped>\n",
       "    .dataframe tbody tr th:only-of-type {\n",
       "        vertical-align: middle;\n",
       "    }\n",
       "\n",
       "    .dataframe tbody tr th {\n",
       "        vertical-align: top;\n",
       "    }\n",
       "\n",
       "    .dataframe thead th {\n",
       "        text-align: right;\n",
       "    }\n",
       "</style>\n",
       "<table border=\"1\" class=\"dataframe\">\n",
       "  <thead>\n",
       "    <tr style=\"text-align: right;\">\n",
       "      <th></th>\n",
       "      <th>User review</th>\n",
       "      <th>Review date</th>\n",
       "      <th>Star review</th>\n",
       "      <th>Text length</th>\n",
       "      <th>Has media</th>\n",
       "      <th>Has answer</th>\n",
       "      <th>Written by bot</th>\n",
       "    </tr>\n",
       "  </thead>\n",
       "  <tbody>\n",
       "    <tr>\n",
       "      <th>0</th>\n",
       "      <td>[достоинство, всё, устроить, нормальный, демис...</td>\n",
       "      <td>2024-10-09</td>\n",
       "      <td>5</td>\n",
       "      <td>54</td>\n",
       "      <td>0</td>\n",
       "      <td>0</td>\n",
       "      <td>0</td>\n",
       "    </tr>\n",
       "    <tr>\n",
       "      <th>1</th>\n",
       "      <td>[шикарный, ,, начитаться, отзыв, ,, рискнуть, ...</td>\n",
       "      <td>2024-10-09</td>\n",
       "      <td>5</td>\n",
       "      <td>195</td>\n",
       "      <td>0</td>\n",
       "      <td>0</td>\n",
       "      <td>0</td>\n",
       "    </tr>\n",
       "    <tr>\n",
       "      <th>2</th>\n",
       "      <td>[дочка, понравиться]</td>\n",
       "      <td>2024-10-09</td>\n",
       "      <td>5</td>\n",
       "      <td>17</td>\n",
       "      <td>0</td>\n",
       "      <td>0</td>\n",
       "      <td>0</td>\n",
       "    </tr>\n",
       "    <tr>\n",
       "      <th>3</th>\n",
       "      <td>[пока, не, одевать, ,, то, что, хотеть]</td>\n",
       "      <td>2024-10-09</td>\n",
       "      <td>5</td>\n",
       "      <td>33</td>\n",
       "      <td>0</td>\n",
       "      <td>0</td>\n",
       "      <td>0</td>\n",
       "    </tr>\n",
       "    <tr>\n",
       "      <th>4</th>\n",
       "      <td>[отличный, куртка]</td>\n",
       "      <td>2024-10-09</td>\n",
       "      <td>5</td>\n",
       "      <td>15</td>\n",
       "      <td>0</td>\n",
       "      <td>0</td>\n",
       "      <td>0</td>\n",
       "    </tr>\n",
       "    <tr>\n",
       "      <th>...</th>\n",
       "      <td>...</td>\n",
       "      <td>...</td>\n",
       "      <td>...</td>\n",
       "      <td>...</td>\n",
       "      <td>...</td>\n",
       "      <td>...</td>\n",
       "      <td>...</td>\n",
       "    </tr>\n",
       "    <tr>\n",
       "      <th>3513</th>\n",
       "      <td>[гриль, хороший, ,, сложно, чистить, решётка, ...</td>\n",
       "      <td>2024-10-06</td>\n",
       "      <td>4</td>\n",
       "      <td>76</td>\n",
       "      <td>1</td>\n",
       "      <td>0</td>\n",
       "      <td>0</td>\n",
       "    </tr>\n",
       "    <tr>\n",
       "      <th>3514</th>\n",
       "      <td>[тостер, работать, нормально, ,, крутилка, сли...</td>\n",
       "      <td>2024-12-08</td>\n",
       "      <td>3</td>\n",
       "      <td>75</td>\n",
       "      <td>0</td>\n",
       "      <td>0</td>\n",
       "      <td>0</td>\n",
       "    </tr>\n",
       "    <tr>\n",
       "      <th>3515</th>\n",
       "      <td>[чайник, хороший, ,, крышка, чут-чуть, заедать...</td>\n",
       "      <td>2024-12-13</td>\n",
       "      <td>4</td>\n",
       "      <td>73</td>\n",
       "      <td>0</td>\n",
       "      <td>0</td>\n",
       "      <td>0</td>\n",
       "    </tr>\n",
       "    <tr>\n",
       "      <th>3516</th>\n",
       "      <td>[принтер, печатать, ,, иногда, картридж, не, с...</td>\n",
       "      <td>2024-11-21</td>\n",
       "      <td>4</td>\n",
       "      <td>69</td>\n",
       "      <td>0</td>\n",
       "      <td>1</td>\n",
       "      <td>0</td>\n",
       "    </tr>\n",
       "    <tr>\n",
       "      <th>3517</th>\n",
       "      <td>[смартфон, нормальный, ,, экран, немой, тускло...</td>\n",
       "      <td>2024-10-30</td>\n",
       "      <td>3</td>\n",
       "      <td>55</td>\n",
       "      <td>1</td>\n",
       "      <td>1</td>\n",
       "      <td>0</td>\n",
       "    </tr>\n",
       "  </tbody>\n",
       "</table>\n",
       "<p>3518 rows × 7 columns</p>\n",
       "</div>"
      ],
      "text/plain": [
       "                                            User review Review date  \\\n",
       "0     [достоинство, всё, устроить, нормальный, демис...  2024-10-09   \n",
       "1     [шикарный, ,, начитаться, отзыв, ,, рискнуть, ...  2024-10-09   \n",
       "2                                  [дочка, понравиться]  2024-10-09   \n",
       "3               [пока, не, одевать, ,, то, что, хотеть]  2024-10-09   \n",
       "4                                    [отличный, куртка]  2024-10-09   \n",
       "...                                                 ...         ...   \n",
       "3513  [гриль, хороший, ,, сложно, чистить, решётка, ...  2024-10-06   \n",
       "3514  [тостер, работать, нормально, ,, крутилка, сли...  2024-12-08   \n",
       "3515  [чайник, хороший, ,, крышка, чут-чуть, заедать...  2024-12-13   \n",
       "3516  [принтер, печатать, ,, иногда, картридж, не, с...  2024-11-21   \n",
       "3517  [смартфон, нормальный, ,, экран, немой, тускло...  2024-10-30   \n",
       "\n",
       "      Star review  Text length Has media  Has answer  Written by bot  \n",
       "0               5           54         0           0               0  \n",
       "1               5          195         0           0               0  \n",
       "2               5           17         0           0               0  \n",
       "3               5           33         0           0               0  \n",
       "4               5           15         0           0               0  \n",
       "...           ...          ...       ...         ...             ...  \n",
       "3513            4           76         1           0               0  \n",
       "3514            3           75         0           0               0  \n",
       "3515            4           73         0           0               0  \n",
       "3516            4           69         0           1               0  \n",
       "3517            3           55         1           1               0  \n",
       "\n",
       "[3518 rows x 7 columns]"
      ]
     },
     "execution_count": 51,
     "metadata": {},
     "output_type": "execute_result"
    }
   ],
   "source": [
    "df"
   ]
  },
  {
   "cell_type": "code",
   "execution_count": 52,
   "id": "b9c552e05598fc9f",
   "metadata": {
    "ExecuteTime": {
     "end_time": "2025-01-15T10:29:48.054966Z",
     "start_time": "2025-01-15T10:29:48.048964Z"
    }
   },
   "outputs": [],
   "source": [
    "filtered_df = df[df['Written by bot'] == 1]"
   ]
  },
  {
   "cell_type": "code",
   "execution_count": 53,
   "id": "f824c6bc6db5715d",
   "metadata": {
    "ExecuteTime": {
     "end_time": "2025-01-15T10:29:48.686777Z",
     "start_time": "2025-01-15T10:29:48.675749Z"
    }
   },
   "outputs": [
    {
     "data": {
      "text/html": [
       "<div>\n",
       "<style scoped>\n",
       "    .dataframe tbody tr th:only-of-type {\n",
       "        vertical-align: middle;\n",
       "    }\n",
       "\n",
       "    .dataframe tbody tr th {\n",
       "        vertical-align: top;\n",
       "    }\n",
       "\n",
       "    .dataframe thead th {\n",
       "        text-align: right;\n",
       "    }\n",
       "</style>\n",
       "<table border=\"1\" class=\"dataframe\">\n",
       "  <thead>\n",
       "    <tr style=\"text-align: right;\">\n",
       "      <th></th>\n",
       "      <th>User review</th>\n",
       "      <th>Review date</th>\n",
       "      <th>Star review</th>\n",
       "      <th>Text length</th>\n",
       "      <th>Has media</th>\n",
       "      <th>Has answer</th>\n",
       "      <th>Written by bot</th>\n",
       "    </tr>\n",
       "  </thead>\n",
       "  <tbody>\n",
       "    <tr>\n",
       "      <th>1602</th>\n",
       "      <td>[товар, просто, замечательный, !, рекомендоват...</td>\n",
       "      <td>2024-09-29</td>\n",
       "      <td>5</td>\n",
       "      <td>59</td>\n",
       "      <td>0</td>\n",
       "      <td>1</td>\n",
       "      <td>1</td>\n",
       "    </tr>\n",
       "    <tr>\n",
       "      <th>1603</th>\n",
       "      <td>[не, ожидать, ,, что, быть, так, классно, ., в...</td>\n",
       "      <td>2024-09-28</td>\n",
       "      <td>5</td>\n",
       "      <td>64</td>\n",
       "      <td>1</td>\n",
       "      <td>1</td>\n",
       "      <td>1</td>\n",
       "    </tr>\n",
       "    <tr>\n",
       "      <th>1604</th>\n",
       "      <td>[использовать, ежедневно, и, не, жалеть, покуп...</td>\n",
       "      <td>2024-09-27</td>\n",
       "      <td>5</td>\n",
       "      <td>65</td>\n",
       "      <td>0</td>\n",
       "      <td>0</td>\n",
       "      <td>1</td>\n",
       "    </tr>\n",
       "    <tr>\n",
       "      <th>1605</th>\n",
       "      <td>[покупка, стоить, мой, ожидание, ., каждый, ре...</td>\n",
       "      <td>2024-09-26</td>\n",
       "      <td>5</td>\n",
       "      <td>58</td>\n",
       "      <td>1</td>\n",
       "      <td>1</td>\n",
       "      <td>1</td>\n",
       "    </tr>\n",
       "    <tr>\n",
       "      <th>1606</th>\n",
       "      <td>[супер, продукт, !, полностью, удовлетворить, ...</td>\n",
       "      <td>2024-09-25</td>\n",
       "      <td>5</td>\n",
       "      <td>62</td>\n",
       "      <td>0</td>\n",
       "      <td>0</td>\n",
       "      <td>1</td>\n",
       "    </tr>\n",
       "    <tr>\n",
       "      <th>...</th>\n",
       "      <td>...</td>\n",
       "      <td>...</td>\n",
       "      <td>...</td>\n",
       "      <td>...</td>\n",
       "      <td>...</td>\n",
       "      <td>...</td>\n",
       "      <td>...</td>\n",
       "    </tr>\n",
       "    <tr>\n",
       "      <th>3452</th>\n",
       "      <td>[отличный, соотношение, цена, и, качество, ., ...</td>\n",
       "      <td>2026-11-05</td>\n",
       "      <td>5</td>\n",
       "      <td>52</td>\n",
       "      <td>1</td>\n",
       "      <td>0</td>\n",
       "      <td>1</td>\n",
       "    </tr>\n",
       "    <tr>\n",
       "      <th>3453</th>\n",
       "      <td>[слабый, упаковка, ,, сам, товар, нормальный, ...</td>\n",
       "      <td>2026-11-06</td>\n",
       "      <td>3</td>\n",
       "      <td>53</td>\n",
       "      <td>0</td>\n",
       "      <td>0</td>\n",
       "      <td>1</td>\n",
       "    </tr>\n",
       "    <tr>\n",
       "      <th>3454</th>\n",
       "      <td>[товар, понравиться, ,, доставка, мочь, быстры...</td>\n",
       "      <td>2026-11-07</td>\n",
       "      <td>4</td>\n",
       "      <td>52</td>\n",
       "      <td>0</td>\n",
       "      <td>1</td>\n",
       "      <td>1</td>\n",
       "    </tr>\n",
       "    <tr>\n",
       "      <th>3455</th>\n",
       "      <td>[очень, довольный, товар, !, превосходный, кач...</td>\n",
       "      <td>2026-11-08</td>\n",
       "      <td>5</td>\n",
       "      <td>50</td>\n",
       "      <td>1</td>\n",
       "      <td>1</td>\n",
       "      <td>1</td>\n",
       "    </tr>\n",
       "    <tr>\n",
       "      <th>3456</th>\n",
       "      <td>[не, понравиться, товар, ,, ожидать, хороший, ...</td>\n",
       "      <td>2026-11-09</td>\n",
       "      <td>2</td>\n",
       "      <td>50</td>\n",
       "      <td>0</td>\n",
       "      <td>0</td>\n",
       "      <td>1</td>\n",
       "    </tr>\n",
       "  </tbody>\n",
       "</table>\n",
       "<p>1855 rows × 7 columns</p>\n",
       "</div>"
      ],
      "text/plain": [
       "                                            User review Review date  \\\n",
       "1602  [товар, просто, замечательный, !, рекомендоват...  2024-09-29   \n",
       "1603  [не, ожидать, ,, что, быть, так, классно, ., в...  2024-09-28   \n",
       "1604  [использовать, ежедневно, и, не, жалеть, покуп...  2024-09-27   \n",
       "1605  [покупка, стоить, мой, ожидание, ., каждый, ре...  2024-09-26   \n",
       "1606  [супер, продукт, !, полностью, удовлетворить, ...  2024-09-25   \n",
       "...                                                 ...         ...   \n",
       "3452  [отличный, соотношение, цена, и, качество, ., ...  2026-11-05   \n",
       "3453  [слабый, упаковка, ,, сам, товар, нормальный, ...  2026-11-06   \n",
       "3454  [товар, понравиться, ,, доставка, мочь, быстры...  2026-11-07   \n",
       "3455  [очень, довольный, товар, !, превосходный, кач...  2026-11-08   \n",
       "3456  [не, понравиться, товар, ,, ожидать, хороший, ...  2026-11-09   \n",
       "\n",
       "      Star review  Text length Has media  Has answer  Written by bot  \n",
       "1602            5           59         0           1               1  \n",
       "1603            5           64         1           1               1  \n",
       "1604            5           65         0           0               1  \n",
       "1605            5           58         1           1               1  \n",
       "1606            5           62         0           0               1  \n",
       "...           ...          ...       ...         ...             ...  \n",
       "3452            5           52         1           0               1  \n",
       "3453            3           53         0           0               1  \n",
       "3454            4           52         0           1               1  \n",
       "3455            5           50         1           1               1  \n",
       "3456            2           50         0           0               1  \n",
       "\n",
       "[1855 rows x 7 columns]"
      ]
     },
     "execution_count": 53,
     "metadata": {},
     "output_type": "execute_result"
    }
   ],
   "source": [
    "filtered_df"
   ]
  },
  {
   "cell_type": "markdown",
   "id": "3e204024c65f3415",
   "metadata": {},
   "source": [
    "# Удаление знаков препинания"
   ]
  },
  {
   "cell_type": "code",
   "execution_count": 87,
   "id": "708ba380118061a",
   "metadata": {
    "ExecuteTime": {
     "end_time": "2025-01-15T10:29:51.668548Z",
     "start_time": "2025-01-15T10:29:51.654553Z"
    }
   },
   "outputs": [
    {
     "data": {
      "text/html": [
       "<div>\n",
       "<style scoped>\n",
       "    .dataframe tbody tr th:only-of-type {\n",
       "        vertical-align: middle;\n",
       "    }\n",
       "\n",
       "    .dataframe tbody tr th {\n",
       "        vertical-align: top;\n",
       "    }\n",
       "\n",
       "    .dataframe thead th {\n",
       "        text-align: right;\n",
       "    }\n",
       "</style>\n",
       "<table border=\"1\" class=\"dataframe\">\n",
       "  <thead>\n",
       "    <tr style=\"text-align: right;\">\n",
       "      <th></th>\n",
       "      <th>User review</th>\n",
       "      <th>Review date</th>\n",
       "      <th>Star review</th>\n",
       "      <th>Text length</th>\n",
       "      <th>Has media</th>\n",
       "      <th>Has answer</th>\n",
       "      <th>Written by bot</th>\n",
       "    </tr>\n",
       "  </thead>\n",
       "  <tbody>\n",
       "    <tr>\n",
       "      <th>0</th>\n",
       "      <td>[достоинство, всё, устроить, нормальный, демис...</td>\n",
       "      <td>2024-10-09</td>\n",
       "      <td>5</td>\n",
       "      <td>54</td>\n",
       "      <td>0</td>\n",
       "      <td>0</td>\n",
       "      <td>0</td>\n",
       "    </tr>\n",
       "    <tr>\n",
       "      <th>1</th>\n",
       "      <td>[шикарный, ,, начитаться, отзыв, ,, рискнуть, ...</td>\n",
       "      <td>2024-10-09</td>\n",
       "      <td>5</td>\n",
       "      <td>195</td>\n",
       "      <td>0</td>\n",
       "      <td>0</td>\n",
       "      <td>0</td>\n",
       "    </tr>\n",
       "    <tr>\n",
       "      <th>2</th>\n",
       "      <td>[дочка, понравиться]</td>\n",
       "      <td>2024-10-09</td>\n",
       "      <td>5</td>\n",
       "      <td>17</td>\n",
       "      <td>0</td>\n",
       "      <td>0</td>\n",
       "      <td>0</td>\n",
       "    </tr>\n",
       "    <tr>\n",
       "      <th>3</th>\n",
       "      <td>[пока, не, одевать, ,, то, что, хотеть]</td>\n",
       "      <td>2024-10-09</td>\n",
       "      <td>5</td>\n",
       "      <td>33</td>\n",
       "      <td>0</td>\n",
       "      <td>0</td>\n",
       "      <td>0</td>\n",
       "    </tr>\n",
       "    <tr>\n",
       "      <th>4</th>\n",
       "      <td>[отличный, куртка]</td>\n",
       "      <td>2024-10-09</td>\n",
       "      <td>5</td>\n",
       "      <td>15</td>\n",
       "      <td>0</td>\n",
       "      <td>0</td>\n",
       "      <td>0</td>\n",
       "    </tr>\n",
       "    <tr>\n",
       "      <th>...</th>\n",
       "      <td>...</td>\n",
       "      <td>...</td>\n",
       "      <td>...</td>\n",
       "      <td>...</td>\n",
       "      <td>...</td>\n",
       "      <td>...</td>\n",
       "      <td>...</td>\n",
       "    </tr>\n",
       "    <tr>\n",
       "      <th>2999</th>\n",
       "      <td>[гриль, хороший, ,, сложно, чистить, решётка, ...</td>\n",
       "      <td>2024-10-06</td>\n",
       "      <td>4</td>\n",
       "      <td>76</td>\n",
       "      <td>1</td>\n",
       "      <td>1</td>\n",
       "      <td>0</td>\n",
       "    </tr>\n",
       "    <tr>\n",
       "      <th>3000</th>\n",
       "      <td>[тостер, работать, нормально, ,, крутилка, сли...</td>\n",
       "      <td>2024-12-08</td>\n",
       "      <td>3</td>\n",
       "      <td>75</td>\n",
       "      <td>0</td>\n",
       "      <td>1</td>\n",
       "      <td>0</td>\n",
       "    </tr>\n",
       "    <tr>\n",
       "      <th>3001</th>\n",
       "      <td>[чайник, хороший, ,, крышка, чут-чуть, заедать...</td>\n",
       "      <td>2024-12-13</td>\n",
       "      <td>4</td>\n",
       "      <td>73</td>\n",
       "      <td>0</td>\n",
       "      <td>1</td>\n",
       "      <td>0</td>\n",
       "    </tr>\n",
       "    <tr>\n",
       "      <th>3002</th>\n",
       "      <td>[принтер, печатать, ,, иногда, картридж, не, с...</td>\n",
       "      <td>2024-11-21</td>\n",
       "      <td>4</td>\n",
       "      <td>69</td>\n",
       "      <td>0</td>\n",
       "      <td>1</td>\n",
       "      <td>0</td>\n",
       "    </tr>\n",
       "    <tr>\n",
       "      <th>3003</th>\n",
       "      <td>[смартфон, нормальный, ,, экран, немой, тускло...</td>\n",
       "      <td>2024-10-30</td>\n",
       "      <td>3</td>\n",
       "      <td>55</td>\n",
       "      <td>1</td>\n",
       "      <td>0</td>\n",
       "      <td>0</td>\n",
       "    </tr>\n",
       "  </tbody>\n",
       "</table>\n",
       "<p>3004 rows × 7 columns</p>\n",
       "</div>"
      ],
      "text/plain": [
       "                                            User review Review date  \\\n",
       "0     [достоинство, всё, устроить, нормальный, демис...  2024-10-09   \n",
       "1     [шикарный, ,, начитаться, отзыв, ,, рискнуть, ...  2024-10-09   \n",
       "2                                  [дочка, понравиться]  2024-10-09   \n",
       "3               [пока, не, одевать, ,, то, что, хотеть]  2024-10-09   \n",
       "4                                    [отличный, куртка]  2024-10-09   \n",
       "...                                                 ...         ...   \n",
       "2999  [гриль, хороший, ,, сложно, чистить, решётка, ...  2024-10-06   \n",
       "3000  [тостер, работать, нормально, ,, крутилка, сли...  2024-12-08   \n",
       "3001  [чайник, хороший, ,, крышка, чут-чуть, заедать...  2024-12-13   \n",
       "3002  [принтер, печатать, ,, иногда, картридж, не, с...  2024-11-21   \n",
       "3003  [смартфон, нормальный, ,, экран, немой, тускло...  2024-10-30   \n",
       "\n",
       "      Star review  Text length Has media  Has answer  Written by bot  \n",
       "0               5           54         0           0               0  \n",
       "1               5          195         0           0               0  \n",
       "2               5           17         0           0               0  \n",
       "3               5           33         0           0               0  \n",
       "4               5           15         0           0               0  \n",
       "...           ...          ...       ...         ...             ...  \n",
       "2999            4           76         1           1               0  \n",
       "3000            3           75         0           1               0  \n",
       "3001            4           73         0           1               0  \n",
       "3002            4           69         0           1               0  \n",
       "3003            3           55         1           0               0  \n",
       "\n",
       "[3004 rows x 7 columns]"
      ]
     },
     "execution_count": 87,
     "metadata": {},
     "output_type": "execute_result"
    }
   ],
   "source": [
    "df"
   ]
  },
  {
   "cell_type": "code",
   "execution_count": 88,
   "id": "b8df8e2b56ec52d7",
   "metadata": {
    "ExecuteTime": {
     "end_time": "2025-01-15T10:29:52.511414Z",
     "start_time": "2025-01-15T10:29:52.501414Z"
    }
   },
   "outputs": [],
   "source": [
    "exceptions_punctuation = {\"!\", \"?\", \"-\",}"
   ]
  },
  {
   "cell_type": "code",
   "execution_count": 89,
   "id": "16c7aad6a5bff23f",
   "metadata": {
    "ExecuteTime": {
     "end_time": "2025-01-15T10:29:53.546265Z",
     "start_time": "2025-01-15T10:29:53.531306Z"
    }
   },
   "outputs": [],
   "source": [
    "import string\n",
    "for tokens in reviews:\n",
    "    for token in tokens:\n",
    "        if token in string.punctuation and token not in exceptions_punctuation:\n",
    "            tokens.remove(token)"
   ]
  },
  {
   "cell_type": "code",
   "execution_count": 90,
   "id": "e5193cb6f6c504f4",
   "metadata": {
    "ExecuteTime": {
     "end_time": "2025-01-15T10:29:54.381392Z",
     "start_time": "2025-01-15T10:29:54.371362Z"
    }
   },
   "outputs": [
    {
     "data": {
      "text/plain": [
       "['шикарный',\n",
       " 'начитаться',\n",
       " 'отзыв',\n",
       " 'рискнуть',\n",
       " 'что',\n",
       " 'быть',\n",
       " 'после',\n",
       " 'стирка',\n",
       " 'время',\n",
       " 'показать',\n",
       " 'верх',\n",
       " 'покупать',\n",
       " '54',\n",
       " 'размер',\n",
       " 'этот',\n",
       " 'быть',\n",
       " 'и',\n",
       " '48',\n",
       " 'заказать',\n",
       " 'не',\n",
       " 'стать',\n",
       " 'взять',\n",
       " '50.спасибо',\n",
       " 'очень',\n",
       " 'понравиться']"
      ]
     },
     "execution_count": 90,
     "metadata": {},
     "output_type": "execute_result"
    }
   ],
   "source": [
    "reviews[1]"
   ]
  },
  {
   "cell_type": "code",
   "execution_count": 91,
   "id": "ce447bf8f555b426",
   "metadata": {
    "ExecuteTime": {
     "end_time": "2025-01-15T10:29:55.203986Z",
     "start_time": "2025-01-15T10:29:55.184977Z"
    }
   },
   "outputs": [
    {
     "data": {
      "text/html": [
       "<div>\n",
       "<style scoped>\n",
       "    .dataframe tbody tr th:only-of-type {\n",
       "        vertical-align: middle;\n",
       "    }\n",
       "\n",
       "    .dataframe tbody tr th {\n",
       "        vertical-align: top;\n",
       "    }\n",
       "\n",
       "    .dataframe thead th {\n",
       "        text-align: right;\n",
       "    }\n",
       "</style>\n",
       "<table border=\"1\" class=\"dataframe\">\n",
       "  <thead>\n",
       "    <tr style=\"text-align: right;\">\n",
       "      <th></th>\n",
       "      <th>User review</th>\n",
       "      <th>Review date</th>\n",
       "      <th>Star review</th>\n",
       "      <th>Text length</th>\n",
       "      <th>Has media</th>\n",
       "      <th>Has answer</th>\n",
       "      <th>Written by bot</th>\n",
       "    </tr>\n",
       "  </thead>\n",
       "  <tbody>\n",
       "    <tr>\n",
       "      <th>0</th>\n",
       "      <td>[достоинство, всё, устроить, нормальный, демис...</td>\n",
       "      <td>2024-10-09</td>\n",
       "      <td>5</td>\n",
       "      <td>54</td>\n",
       "      <td>0</td>\n",
       "      <td>0</td>\n",
       "      <td>0</td>\n",
       "    </tr>\n",
       "    <tr>\n",
       "      <th>1</th>\n",
       "      <td>[шикарный, начитаться, отзыв, рискнуть, что, б...</td>\n",
       "      <td>2024-10-09</td>\n",
       "      <td>5</td>\n",
       "      <td>195</td>\n",
       "      <td>0</td>\n",
       "      <td>0</td>\n",
       "      <td>0</td>\n",
       "    </tr>\n",
       "    <tr>\n",
       "      <th>2</th>\n",
       "      <td>[дочка, понравиться]</td>\n",
       "      <td>2024-10-09</td>\n",
       "      <td>5</td>\n",
       "      <td>17</td>\n",
       "      <td>0</td>\n",
       "      <td>0</td>\n",
       "      <td>0</td>\n",
       "    </tr>\n",
       "    <tr>\n",
       "      <th>3</th>\n",
       "      <td>[пока, не, одевать, то, что, хотеть]</td>\n",
       "      <td>2024-10-09</td>\n",
       "      <td>5</td>\n",
       "      <td>33</td>\n",
       "      <td>0</td>\n",
       "      <td>0</td>\n",
       "      <td>0</td>\n",
       "    </tr>\n",
       "    <tr>\n",
       "      <th>4</th>\n",
       "      <td>[отличный, куртка]</td>\n",
       "      <td>2024-10-09</td>\n",
       "      <td>5</td>\n",
       "      <td>15</td>\n",
       "      <td>0</td>\n",
       "      <td>0</td>\n",
       "      <td>0</td>\n",
       "    </tr>\n",
       "    <tr>\n",
       "      <th>...</th>\n",
       "      <td>...</td>\n",
       "      <td>...</td>\n",
       "      <td>...</td>\n",
       "      <td>...</td>\n",
       "      <td>...</td>\n",
       "      <td>...</td>\n",
       "      <td>...</td>\n",
       "    </tr>\n",
       "    <tr>\n",
       "      <th>2999</th>\n",
       "      <td>[гриль, хороший, сложно, чистить, решётка, так...</td>\n",
       "      <td>2024-10-06</td>\n",
       "      <td>4</td>\n",
       "      <td>76</td>\n",
       "      <td>1</td>\n",
       "      <td>1</td>\n",
       "      <td>0</td>\n",
       "    </tr>\n",
       "    <tr>\n",
       "      <th>3000</th>\n",
       "      <td>[тостер, работать, нормально, крутилка, слишко...</td>\n",
       "      <td>2024-12-08</td>\n",
       "      <td>3</td>\n",
       "      <td>75</td>\n",
       "      <td>0</td>\n",
       "      <td>1</td>\n",
       "      <td>0</td>\n",
       "    </tr>\n",
       "    <tr>\n",
       "      <th>3001</th>\n",
       "      <td>[чайник, хороший, крышка, чут-чуть, заедать, и...</td>\n",
       "      <td>2024-12-13</td>\n",
       "      <td>4</td>\n",
       "      <td>73</td>\n",
       "      <td>0</td>\n",
       "      <td>1</td>\n",
       "      <td>0</td>\n",
       "    </tr>\n",
       "    <tr>\n",
       "      <th>3002</th>\n",
       "      <td>[принтер, печатать, иногда, картридж, не, совс...</td>\n",
       "      <td>2024-11-21</td>\n",
       "      <td>4</td>\n",
       "      <td>69</td>\n",
       "      <td>0</td>\n",
       "      <td>1</td>\n",
       "      <td>0</td>\n",
       "    </tr>\n",
       "    <tr>\n",
       "      <th>3003</th>\n",
       "      <td>[смартфон, нормальный, экран, немой, тускловатый]</td>\n",
       "      <td>2024-10-30</td>\n",
       "      <td>3</td>\n",
       "      <td>55</td>\n",
       "      <td>1</td>\n",
       "      <td>0</td>\n",
       "      <td>0</td>\n",
       "    </tr>\n",
       "  </tbody>\n",
       "</table>\n",
       "<p>3004 rows × 7 columns</p>\n",
       "</div>"
      ],
      "text/plain": [
       "                                            User review Review date  \\\n",
       "0     [достоинство, всё, устроить, нормальный, демис...  2024-10-09   \n",
       "1     [шикарный, начитаться, отзыв, рискнуть, что, б...  2024-10-09   \n",
       "2                                  [дочка, понравиться]  2024-10-09   \n",
       "3                  [пока, не, одевать, то, что, хотеть]  2024-10-09   \n",
       "4                                    [отличный, куртка]  2024-10-09   \n",
       "...                                                 ...         ...   \n",
       "2999  [гриль, хороший, сложно, чистить, решётка, так...  2024-10-06   \n",
       "3000  [тостер, работать, нормально, крутилка, слишко...  2024-12-08   \n",
       "3001  [чайник, хороший, крышка, чут-чуть, заедать, и...  2024-12-13   \n",
       "3002  [принтер, печатать, иногда, картридж, не, совс...  2024-11-21   \n",
       "3003  [смартфон, нормальный, экран, немой, тускловатый]  2024-10-30   \n",
       "\n",
       "      Star review  Text length Has media  Has answer  Written by bot  \n",
       "0               5           54         0           0               0  \n",
       "1               5          195         0           0               0  \n",
       "2               5           17         0           0               0  \n",
       "3               5           33         0           0               0  \n",
       "4               5           15         0           0               0  \n",
       "...           ...          ...       ...         ...             ...  \n",
       "2999            4           76         1           1               0  \n",
       "3000            3           75         0           1               0  \n",
       "3001            4           73         0           1               0  \n",
       "3002            4           69         0           1               0  \n",
       "3003            3           55         1           0               0  \n",
       "\n",
       "[3004 rows x 7 columns]"
      ]
     },
     "execution_count": 91,
     "metadata": {},
     "output_type": "execute_result"
    }
   ],
   "source": [
    "df"
   ]
  },
  {
   "cell_type": "code",
   "execution_count": 92,
   "id": "6affd2e1",
   "metadata": {},
   "outputs": [],
   "source": [
    "del df['Text length']"
   ]
  },
  {
   "cell_type": "code",
   "execution_count": 93,
   "id": "78130887",
   "metadata": {},
   "outputs": [],
   "source": [
    "del df['Has media']"
   ]
  },
  {
   "cell_type": "code",
   "execution_count": 94,
   "id": "fb2ea2a6",
   "metadata": {},
   "outputs": [
    {
     "data": {
      "text/html": [
       "<div>\n",
       "<style scoped>\n",
       "    .dataframe tbody tr th:only-of-type {\n",
       "        vertical-align: middle;\n",
       "    }\n",
       "\n",
       "    .dataframe tbody tr th {\n",
       "        vertical-align: top;\n",
       "    }\n",
       "\n",
       "    .dataframe thead th {\n",
       "        text-align: right;\n",
       "    }\n",
       "</style>\n",
       "<table border=\"1\" class=\"dataframe\">\n",
       "  <thead>\n",
       "    <tr style=\"text-align: right;\">\n",
       "      <th></th>\n",
       "      <th>User review</th>\n",
       "      <th>Review date</th>\n",
       "      <th>Star review</th>\n",
       "      <th>Has answer</th>\n",
       "      <th>Written by bot</th>\n",
       "    </tr>\n",
       "  </thead>\n",
       "  <tbody>\n",
       "    <tr>\n",
       "      <th>0</th>\n",
       "      <td>[достоинство, всё, устроить, нормальный, демис...</td>\n",
       "      <td>2024-10-09</td>\n",
       "      <td>5</td>\n",
       "      <td>0</td>\n",
       "      <td>0</td>\n",
       "    </tr>\n",
       "    <tr>\n",
       "      <th>1</th>\n",
       "      <td>[шикарный, начитаться, отзыв, рискнуть, что, б...</td>\n",
       "      <td>2024-10-09</td>\n",
       "      <td>5</td>\n",
       "      <td>0</td>\n",
       "      <td>0</td>\n",
       "    </tr>\n",
       "    <tr>\n",
       "      <th>2</th>\n",
       "      <td>[дочка, понравиться]</td>\n",
       "      <td>2024-10-09</td>\n",
       "      <td>5</td>\n",
       "      <td>0</td>\n",
       "      <td>0</td>\n",
       "    </tr>\n",
       "    <tr>\n",
       "      <th>3</th>\n",
       "      <td>[пока, не, одевать, то, что, хотеть]</td>\n",
       "      <td>2024-10-09</td>\n",
       "      <td>5</td>\n",
       "      <td>0</td>\n",
       "      <td>0</td>\n",
       "    </tr>\n",
       "    <tr>\n",
       "      <th>4</th>\n",
       "      <td>[отличный, куртка]</td>\n",
       "      <td>2024-10-09</td>\n",
       "      <td>5</td>\n",
       "      <td>0</td>\n",
       "      <td>0</td>\n",
       "    </tr>\n",
       "  </tbody>\n",
       "</table>\n",
       "</div>"
      ],
      "text/plain": [
       "                                         User review Review date  Star review  \\\n",
       "0  [достоинство, всё, устроить, нормальный, демис...  2024-10-09            5   \n",
       "1  [шикарный, начитаться, отзыв, рискнуть, что, б...  2024-10-09            5   \n",
       "2                               [дочка, понравиться]  2024-10-09            5   \n",
       "3               [пока, не, одевать, то, что, хотеть]  2024-10-09            5   \n",
       "4                                 [отличный, куртка]  2024-10-09            5   \n",
       "\n",
       "   Has answer  Written by bot  \n",
       "0           0               0  \n",
       "1           0               0  \n",
       "2           0               0  \n",
       "3           0               0  \n",
       "4           0               0  "
      ]
     },
     "execution_count": 94,
     "metadata": {},
     "output_type": "execute_result"
    }
   ],
   "source": [
    "df.head()"
   ]
  },
  {
   "cell_type": "code",
   "execution_count": 97,
   "id": "5a774b56e229d9ed",
   "metadata": {
    "ExecuteTime": {
     "end_time": "2025-01-15T10:29:57.999672Z",
     "start_time": "2025-01-15T10:29:57.985675Z"
    }
   },
   "outputs": [],
   "source": [
    "import json\n",
    "df['User review'] = df['User review'].apply(json.dumps)\n",
    "# df.to_csv(DIRECTORY_PATH + \"\\\\parser\\\\dataframes\\\\main_df.csv\")"
   ]
  },
  {
   "cell_type": "code",
   "execution_count": 98,
   "id": "a5d4156a599db5c1",
   "metadata": {
    "ExecuteTime": {
     "end_time": "2025-01-15T10:30:00.092645Z",
     "start_time": "2025-01-15T10:30:00.063893Z"
    }
   },
   "outputs": [],
   "source": [
    "df.to_csv(DIRECTORY_PATH + \"/parser/dataframes/preprocessed_main_df.csv\")"
   ]
  }
 ],
 "metadata": {
  "kernelspec": {
   "display_name": "venv",
   "language": "python",
   "name": "python3"
  },
  "language_info": {
   "codemirror_mode": {
    "name": "ipython",
    "version": 3
   },
   "file_extension": ".py",
   "mimetype": "text/x-python",
   "name": "python",
   "nbconvert_exporter": "python",
   "pygments_lexer": "ipython3",
   "version": "3.10.16"
  }
 },
 "nbformat": 4,
 "nbformat_minor": 5
}
