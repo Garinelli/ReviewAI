{
 "cells": [
  {
   "cell_type": "code",
   "execution_count": 1,
   "id": "15b6908f230e4b20",
   "metadata": {
    "ExecuteTime": {
     "end_time": "2025-02-22T08:13:05.388183Z",
     "start_time": "2025-02-22T08:13:03.725025Z"
    },
    "id": "15b6908f230e4b20"
   },
   "outputs": [],
   "source": [
    "import os\n",
    "import json\n",
    "\n",
    "import numpy as np\n",
    "import pandas as pd"
   ]
  },
  {
   "cell_type": "code",
   "execution_count": 2,
   "id": "394587177424a2c2",
   "metadata": {
    "ExecuteTime": {
     "end_time": "2025-02-22T08:13:06.210228Z",
     "start_time": "2025-02-22T08:13:06.197230Z"
    },
    "id": "394587177424a2c2"
   },
   "outputs": [],
   "source": [
    "BASE_DIR = os.getcwd()\n",
    "DIRECTORY_PATH = os.path.dirname(BASE_DIR)\n",
    "DF_PATH = DIRECTORY_PATH + \"/parser/dataframes/preprocessed_main_df.csv\""
   ]
  },
  {
   "cell_type": "code",
   "execution_count": 3,
   "id": "6de85adba034d508",
   "metadata": {
    "ExecuteTime": {
     "end_time": "2025-02-22T08:13:07.242997Z",
     "start_time": "2025-02-22T08:13:07.180997Z"
    },
    "id": "6de85adba034d508"
   },
   "outputs": [],
   "source": [
    "df = pd.read_csv(DF_PATH)\n",
    "df = df.copy()"
   ]
  },
  {
   "cell_type": "code",
   "execution_count": 2,
   "id": "sHLJipIAIFYM",
   "metadata": {
    "colab": {
     "base_uri": "https://localhost:8080/",
     "height": 73
    },
    "id": "sHLJipIAIFYM",
    "outputId": "873a871d-d9f0-488b-f742-4460dd303a5d"
   },
   "outputs": [
    {
     "data": {
      "text/html": [
       "\n",
       "     <input type=\"file\" id=\"files-b0ac914b-7a57-435c-ab7a-9e49e9767057\" name=\"files[]\" multiple disabled\n",
       "        style=\"border:none\" />\n",
       "     <output id=\"result-b0ac914b-7a57-435c-ab7a-9e49e9767057\">\n",
       "      Upload widget is only available when the cell has been executed in the\n",
       "      current browser session. Please rerun this cell to enable.\n",
       "      </output>\n",
       "      <script>// Copyright 2017 Google LLC\n",
       "//\n",
       "// Licensed under the Apache License, Version 2.0 (the \"License\");\n",
       "// you may not use this file except in compliance with the License.\n",
       "// You may obtain a copy of the License at\n",
       "//\n",
       "//      http://www.apache.org/licenses/LICENSE-2.0\n",
       "//\n",
       "// Unless required by applicable law or agreed to in writing, software\n",
       "// distributed under the License is distributed on an \"AS IS\" BASIS,\n",
       "// WITHOUT WARRANTIES OR CONDITIONS OF ANY KIND, either express or implied.\n",
       "// See the License for the specific language governing permissions and\n",
       "// limitations under the License.\n",
       "\n",
       "/**\n",
       " * @fileoverview Helpers for google.colab Python module.\n",
       " */\n",
       "(function(scope) {\n",
       "function span(text, styleAttributes = {}) {\n",
       "  const element = document.createElement('span');\n",
       "  element.textContent = text;\n",
       "  for (const key of Object.keys(styleAttributes)) {\n",
       "    element.style[key] = styleAttributes[key];\n",
       "  }\n",
       "  return element;\n",
       "}\n",
       "\n",
       "// Max number of bytes which will be uploaded at a time.\n",
       "const MAX_PAYLOAD_SIZE = 100 * 1024;\n",
       "\n",
       "function _uploadFiles(inputId, outputId) {\n",
       "  const steps = uploadFilesStep(inputId, outputId);\n",
       "  const outputElement = document.getElementById(outputId);\n",
       "  // Cache steps on the outputElement to make it available for the next call\n",
       "  // to uploadFilesContinue from Python.\n",
       "  outputElement.steps = steps;\n",
       "\n",
       "  return _uploadFilesContinue(outputId);\n",
       "}\n",
       "\n",
       "// This is roughly an async generator (not supported in the browser yet),\n",
       "// where there are multiple asynchronous steps and the Python side is going\n",
       "// to poll for completion of each step.\n",
       "// This uses a Promise to block the python side on completion of each step,\n",
       "// then passes the result of the previous step as the input to the next step.\n",
       "function _uploadFilesContinue(outputId) {\n",
       "  const outputElement = document.getElementById(outputId);\n",
       "  const steps = outputElement.steps;\n",
       "\n",
       "  const next = steps.next(outputElement.lastPromiseValue);\n",
       "  return Promise.resolve(next.value.promise).then((value) => {\n",
       "    // Cache the last promise value to make it available to the next\n",
       "    // step of the generator.\n",
       "    outputElement.lastPromiseValue = value;\n",
       "    return next.value.response;\n",
       "  });\n",
       "}\n",
       "\n",
       "/**\n",
       " * Generator function which is called between each async step of the upload\n",
       " * process.\n",
       " * @param {string} inputId Element ID of the input file picker element.\n",
       " * @param {string} outputId Element ID of the output display.\n",
       " * @return {!Iterable<!Object>} Iterable of next steps.\n",
       " */\n",
       "function* uploadFilesStep(inputId, outputId) {\n",
       "  const inputElement = document.getElementById(inputId);\n",
       "  inputElement.disabled = false;\n",
       "\n",
       "  const outputElement = document.getElementById(outputId);\n",
       "  outputElement.innerHTML = '';\n",
       "\n",
       "  const pickedPromise = new Promise((resolve) => {\n",
       "    inputElement.addEventListener('change', (e) => {\n",
       "      resolve(e.target.files);\n",
       "    });\n",
       "  });\n",
       "\n",
       "  const cancel = document.createElement('button');\n",
       "  inputElement.parentElement.appendChild(cancel);\n",
       "  cancel.textContent = 'Cancel upload';\n",
       "  const cancelPromise = new Promise((resolve) => {\n",
       "    cancel.onclick = () => {\n",
       "      resolve(null);\n",
       "    };\n",
       "  });\n",
       "\n",
       "  // Wait for the user to pick the files.\n",
       "  const files = yield {\n",
       "    promise: Promise.race([pickedPromise, cancelPromise]),\n",
       "    response: {\n",
       "      action: 'starting',\n",
       "    }\n",
       "  };\n",
       "\n",
       "  cancel.remove();\n",
       "\n",
       "  // Disable the input element since further picks are not allowed.\n",
       "  inputElement.disabled = true;\n",
       "\n",
       "  if (!files) {\n",
       "    return {\n",
       "      response: {\n",
       "        action: 'complete',\n",
       "      }\n",
       "    };\n",
       "  }\n",
       "\n",
       "  for (const file of files) {\n",
       "    const li = document.createElement('li');\n",
       "    li.append(span(file.name, {fontWeight: 'bold'}));\n",
       "    li.append(span(\n",
       "        `(${file.type || 'n/a'}) - ${file.size} bytes, ` +\n",
       "        `last modified: ${\n",
       "            file.lastModifiedDate ? file.lastModifiedDate.toLocaleDateString() :\n",
       "                                    'n/a'} - `));\n",
       "    const percent = span('0% done');\n",
       "    li.appendChild(percent);\n",
       "\n",
       "    outputElement.appendChild(li);\n",
       "\n",
       "    const fileDataPromise = new Promise((resolve) => {\n",
       "      const reader = new FileReader();\n",
       "      reader.onload = (e) => {\n",
       "        resolve(e.target.result);\n",
       "      };\n",
       "      reader.readAsArrayBuffer(file);\n",
       "    });\n",
       "    // Wait for the data to be ready.\n",
       "    let fileData = yield {\n",
       "      promise: fileDataPromise,\n",
       "      response: {\n",
       "        action: 'continue',\n",
       "      }\n",
       "    };\n",
       "\n",
       "    // Use a chunked sending to avoid message size limits. See b/62115660.\n",
       "    let position = 0;\n",
       "    do {\n",
       "      const length = Math.min(fileData.byteLength - position, MAX_PAYLOAD_SIZE);\n",
       "      const chunk = new Uint8Array(fileData, position, length);\n",
       "      position += length;\n",
       "\n",
       "      const base64 = btoa(String.fromCharCode.apply(null, chunk));\n",
       "      yield {\n",
       "        response: {\n",
       "          action: 'append',\n",
       "          file: file.name,\n",
       "          data: base64,\n",
       "        },\n",
       "      };\n",
       "\n",
       "      let percentDone = fileData.byteLength === 0 ?\n",
       "          100 :\n",
       "          Math.round((position / fileData.byteLength) * 100);\n",
       "      percent.textContent = `${percentDone}% done`;\n",
       "\n",
       "    } while (position < fileData.byteLength);\n",
       "  }\n",
       "\n",
       "  // All done.\n",
       "  yield {\n",
       "    response: {\n",
       "      action: 'complete',\n",
       "    }\n",
       "  };\n",
       "}\n",
       "\n",
       "scope.google = scope.google || {};\n",
       "scope.google.colab = scope.google.colab || {};\n",
       "scope.google.colab._files = {\n",
       "  _uploadFiles,\n",
       "  _uploadFilesContinue,\n",
       "};\n",
       "})(self);\n",
       "</script> "
      ],
      "text/plain": [
       "<IPython.core.display.HTML object>"
      ]
     },
     "metadata": {},
     "output_type": "display_data"
    },
    {
     "name": "stdout",
     "output_type": "stream",
     "text": [
      "Saving preprocessed_main_df.csv to preprocessed_main_df.csv\n"
     ]
    }
   ],
   "source": [
    "from google.colab import files\n",
    "\n",
    "uploaded = files.upload()"
   ]
  },
  {
   "cell_type": "code",
   "execution_count": 4,
   "id": "ovniLtYrIP3k",
   "metadata": {
    "ExecuteTime": {
     "end_time": "2025-02-22T08:13:25.596101Z",
     "start_time": "2025-02-22T08:13:25.566101Z"
    },
    "id": "ovniLtYrIP3k"
   },
   "outputs": [],
   "source": [
    "df = pd.read_csv(DF_PATH)"
   ]
  },
  {
   "cell_type": "code",
   "execution_count": 5,
   "id": "3572b739dbb1ad20",
   "metadata": {
    "ExecuteTime": {
     "end_time": "2025-02-22T08:13:26.409595Z",
     "start_time": "2025-02-22T08:13:26.387614Z"
    },
    "colab": {
     "base_uri": "https://localhost:8080/",
     "height": 424
    },
    "id": "3572b739dbb1ad20",
    "outputId": "a609b9d6-0c9d-445d-d345-79d8e0e32b03"
   },
   "outputs": [
    {
     "data": {
      "text/html": [
       "<div>\n",
       "<style scoped>\n",
       "    .dataframe tbody tr th:only-of-type {\n",
       "        vertical-align: middle;\n",
       "    }\n",
       "\n",
       "    .dataframe tbody tr th {\n",
       "        vertical-align: top;\n",
       "    }\n",
       "\n",
       "    .dataframe thead th {\n",
       "        text-align: right;\n",
       "    }\n",
       "</style>\n",
       "<table border=\"1\" class=\"dataframe\">\n",
       "  <thead>\n",
       "    <tr style=\"text-align: right;\">\n",
       "      <th></th>\n",
       "      <th>Unnamed: 0</th>\n",
       "      <th>User review</th>\n",
       "      <th>Review date</th>\n",
       "      <th>Star review</th>\n",
       "      <th>Has answer</th>\n",
       "      <th>Written by bot</th>\n",
       "    </tr>\n",
       "  </thead>\n",
       "  <tbody>\n",
       "    <tr>\n",
       "      <th>0</th>\n",
       "      <td>0</td>\n",
       "      <td>[\"\\u0434\\u043e\\u0441\\u0442\\u043e\\u0438\\u043d\\u...</td>\n",
       "      <td>2024-10-09</td>\n",
       "      <td>5</td>\n",
       "      <td>0</td>\n",
       "      <td>0</td>\n",
       "    </tr>\n",
       "    <tr>\n",
       "      <th>1</th>\n",
       "      <td>1</td>\n",
       "      <td>[\"\\u0448\\u0438\\u043a\\u0430\\u0440\\u043d\\u044b\\u...</td>\n",
       "      <td>2024-10-09</td>\n",
       "      <td>5</td>\n",
       "      <td>0</td>\n",
       "      <td>0</td>\n",
       "    </tr>\n",
       "    <tr>\n",
       "      <th>2</th>\n",
       "      <td>2</td>\n",
       "      <td>[\"\\u0434\\u043e\\u0447\\u043a\\u0430\", \"\\u043f\\u04...</td>\n",
       "      <td>2024-10-09</td>\n",
       "      <td>5</td>\n",
       "      <td>0</td>\n",
       "      <td>0</td>\n",
       "    </tr>\n",
       "    <tr>\n",
       "      <th>3</th>\n",
       "      <td>3</td>\n",
       "      <td>[\"\\u043f\\u043e\\u043a\\u0430\", \"\\u043d\\u0435\", \"...</td>\n",
       "      <td>2024-10-09</td>\n",
       "      <td>5</td>\n",
       "      <td>0</td>\n",
       "      <td>0</td>\n",
       "    </tr>\n",
       "    <tr>\n",
       "      <th>4</th>\n",
       "      <td>4</td>\n",
       "      <td>[\"\\u043e\\u0442\\u043b\\u0438\\u0447\\u043d\\u044b\\u...</td>\n",
       "      <td>2024-10-09</td>\n",
       "      <td>5</td>\n",
       "      <td>0</td>\n",
       "      <td>0</td>\n",
       "    </tr>\n",
       "    <tr>\n",
       "      <th>...</th>\n",
       "      <td>...</td>\n",
       "      <td>...</td>\n",
       "      <td>...</td>\n",
       "      <td>...</td>\n",
       "      <td>...</td>\n",
       "      <td>...</td>\n",
       "    </tr>\n",
       "    <tr>\n",
       "      <th>2999</th>\n",
       "      <td>2999</td>\n",
       "      <td>[\"\\u0433\\u0440\\u0438\\u043b\\u044c\", \"\\u0445\\u04...</td>\n",
       "      <td>2024-10-06</td>\n",
       "      <td>4</td>\n",
       "      <td>1</td>\n",
       "      <td>0</td>\n",
       "    </tr>\n",
       "    <tr>\n",
       "      <th>3000</th>\n",
       "      <td>3000</td>\n",
       "      <td>[\"\\u0442\\u043e\\u0441\\u0442\\u0435\\u0440\", \"\\u04...</td>\n",
       "      <td>2024-12-08</td>\n",
       "      <td>3</td>\n",
       "      <td>1</td>\n",
       "      <td>0</td>\n",
       "    </tr>\n",
       "    <tr>\n",
       "      <th>3001</th>\n",
       "      <td>3001</td>\n",
       "      <td>[\"\\u0447\\u0430\\u0439\\u043d\\u0438\\u043a\", \"\\u04...</td>\n",
       "      <td>2024-12-13</td>\n",
       "      <td>4</td>\n",
       "      <td>1</td>\n",
       "      <td>0</td>\n",
       "    </tr>\n",
       "    <tr>\n",
       "      <th>3002</th>\n",
       "      <td>3002</td>\n",
       "      <td>[\"\\u043f\\u0440\\u0438\\u043d\\u0442\\u0435\\u0440\",...</td>\n",
       "      <td>2024-11-21</td>\n",
       "      <td>4</td>\n",
       "      <td>1</td>\n",
       "      <td>0</td>\n",
       "    </tr>\n",
       "    <tr>\n",
       "      <th>3003</th>\n",
       "      <td>3003</td>\n",
       "      <td>[\"\\u0441\\u043c\\u0430\\u0440\\u0442\\u0444\\u043e\\u...</td>\n",
       "      <td>2024-10-30</td>\n",
       "      <td>3</td>\n",
       "      <td>0</td>\n",
       "      <td>0</td>\n",
       "    </tr>\n",
       "  </tbody>\n",
       "</table>\n",
       "<p>3004 rows × 6 columns</p>\n",
       "</div>"
      ],
      "text/plain": [
       "      Unnamed: 0                                        User review  \\\n",
       "0              0  [\"\\u0434\\u043e\\u0441\\u0442\\u043e\\u0438\\u043d\\u...   \n",
       "1              1  [\"\\u0448\\u0438\\u043a\\u0430\\u0440\\u043d\\u044b\\u...   \n",
       "2              2  [\"\\u0434\\u043e\\u0447\\u043a\\u0430\", \"\\u043f\\u04...   \n",
       "3              3  [\"\\u043f\\u043e\\u043a\\u0430\", \"\\u043d\\u0435\", \"...   \n",
       "4              4  [\"\\u043e\\u0442\\u043b\\u0438\\u0447\\u043d\\u044b\\u...   \n",
       "...          ...                                                ...   \n",
       "2999        2999  [\"\\u0433\\u0440\\u0438\\u043b\\u044c\", \"\\u0445\\u04...   \n",
       "3000        3000  [\"\\u0442\\u043e\\u0441\\u0442\\u0435\\u0440\", \"\\u04...   \n",
       "3001        3001  [\"\\u0447\\u0430\\u0439\\u043d\\u0438\\u043a\", \"\\u04...   \n",
       "3002        3002  [\"\\u043f\\u0440\\u0438\\u043d\\u0442\\u0435\\u0440\",...   \n",
       "3003        3003  [\"\\u0441\\u043c\\u0430\\u0440\\u0442\\u0444\\u043e\\u...   \n",
       "\n",
       "     Review date  Star review  Has answer  Written by bot  \n",
       "0     2024-10-09            5           0               0  \n",
       "1     2024-10-09            5           0               0  \n",
       "2     2024-10-09            5           0               0  \n",
       "3     2024-10-09            5           0               0  \n",
       "4     2024-10-09            5           0               0  \n",
       "...          ...          ...         ...             ...  \n",
       "2999  2024-10-06            4           1               0  \n",
       "3000  2024-12-08            3           1               0  \n",
       "3001  2024-12-13            4           1               0  \n",
       "3002  2024-11-21            4           1               0  \n",
       "3003  2024-10-30            3           0               0  \n",
       "\n",
       "[3004 rows x 6 columns]"
      ]
     },
     "execution_count": 5,
     "metadata": {},
     "output_type": "execute_result"
    }
   ],
   "source": [
    "df"
   ]
  },
  {
   "cell_type": "code",
   "execution_count": 6,
   "id": "5880c96ff8ae7eda",
   "metadata": {
    "ExecuteTime": {
     "end_time": "2025-02-22T08:13:27.984858Z",
     "start_time": "2025-02-22T08:13:27.964876Z"
    },
    "id": "5880c96ff8ae7eda"
   },
   "outputs": [],
   "source": [
    "df['User review'] = df['User review'].apply(lambda x: json.loads(x) if isinstance(x, str) else x)"
   ]
  },
  {
   "cell_type": "code",
   "execution_count": 7,
   "id": "utRHbfx2IVIT",
   "metadata": {
    "ExecuteTime": {
     "end_time": "2025-02-22T08:13:28.828211Z",
     "start_time": "2025-02-22T08:13:28.804479Z"
    },
    "colab": {
     "base_uri": "https://localhost:8080/",
     "height": 424
    },
    "id": "utRHbfx2IVIT",
    "outputId": "d6e37ce6-a094-449a-ab0f-64b515f89404"
   },
   "outputs": [
    {
     "data": {
      "text/html": [
       "<div>\n",
       "<style scoped>\n",
       "    .dataframe tbody tr th:only-of-type {\n",
       "        vertical-align: middle;\n",
       "    }\n",
       "\n",
       "    .dataframe tbody tr th {\n",
       "        vertical-align: top;\n",
       "    }\n",
       "\n",
       "    .dataframe thead th {\n",
       "        text-align: right;\n",
       "    }\n",
       "</style>\n",
       "<table border=\"1\" class=\"dataframe\">\n",
       "  <thead>\n",
       "    <tr style=\"text-align: right;\">\n",
       "      <th></th>\n",
       "      <th>Unnamed: 0</th>\n",
       "      <th>User review</th>\n",
       "      <th>Review date</th>\n",
       "      <th>Star review</th>\n",
       "      <th>Has answer</th>\n",
       "      <th>Written by bot</th>\n",
       "    </tr>\n",
       "  </thead>\n",
       "  <tbody>\n",
       "    <tr>\n",
       "      <th>0</th>\n",
       "      <td>0</td>\n",
       "      <td>[достоинство, всё, устроить, нормальный, демис...</td>\n",
       "      <td>2024-10-09</td>\n",
       "      <td>5</td>\n",
       "      <td>0</td>\n",
       "      <td>0</td>\n",
       "    </tr>\n",
       "    <tr>\n",
       "      <th>1</th>\n",
       "      <td>1</td>\n",
       "      <td>[шикарный, начитаться, отзыв, рискнуть, что, б...</td>\n",
       "      <td>2024-10-09</td>\n",
       "      <td>5</td>\n",
       "      <td>0</td>\n",
       "      <td>0</td>\n",
       "    </tr>\n",
       "    <tr>\n",
       "      <th>2</th>\n",
       "      <td>2</td>\n",
       "      <td>[дочка, понравиться]</td>\n",
       "      <td>2024-10-09</td>\n",
       "      <td>5</td>\n",
       "      <td>0</td>\n",
       "      <td>0</td>\n",
       "    </tr>\n",
       "    <tr>\n",
       "      <th>3</th>\n",
       "      <td>3</td>\n",
       "      <td>[пока, не, одевать, то, что, хотеть]</td>\n",
       "      <td>2024-10-09</td>\n",
       "      <td>5</td>\n",
       "      <td>0</td>\n",
       "      <td>0</td>\n",
       "    </tr>\n",
       "    <tr>\n",
       "      <th>4</th>\n",
       "      <td>4</td>\n",
       "      <td>[отличный, куртка]</td>\n",
       "      <td>2024-10-09</td>\n",
       "      <td>5</td>\n",
       "      <td>0</td>\n",
       "      <td>0</td>\n",
       "    </tr>\n",
       "    <tr>\n",
       "      <th>...</th>\n",
       "      <td>...</td>\n",
       "      <td>...</td>\n",
       "      <td>...</td>\n",
       "      <td>...</td>\n",
       "      <td>...</td>\n",
       "      <td>...</td>\n",
       "    </tr>\n",
       "    <tr>\n",
       "      <th>2999</th>\n",
       "      <td>2999</td>\n",
       "      <td>[гриль, хороший, сложно, чистить, решётка, так...</td>\n",
       "      <td>2024-10-06</td>\n",
       "      <td>4</td>\n",
       "      <td>1</td>\n",
       "      <td>0</td>\n",
       "    </tr>\n",
       "    <tr>\n",
       "      <th>3000</th>\n",
       "      <td>3000</td>\n",
       "      <td>[тостер, работать, нормально, крутилка, слишко...</td>\n",
       "      <td>2024-12-08</td>\n",
       "      <td>3</td>\n",
       "      <td>1</td>\n",
       "      <td>0</td>\n",
       "    </tr>\n",
       "    <tr>\n",
       "      <th>3001</th>\n",
       "      <td>3001</td>\n",
       "      <td>[чайник, хороший, крышка, чут-чуть, заедать, и...</td>\n",
       "      <td>2024-12-13</td>\n",
       "      <td>4</td>\n",
       "      <td>1</td>\n",
       "      <td>0</td>\n",
       "    </tr>\n",
       "    <tr>\n",
       "      <th>3002</th>\n",
       "      <td>3002</td>\n",
       "      <td>[принтер, печатать, иногда, картридж, не, совс...</td>\n",
       "      <td>2024-11-21</td>\n",
       "      <td>4</td>\n",
       "      <td>1</td>\n",
       "      <td>0</td>\n",
       "    </tr>\n",
       "    <tr>\n",
       "      <th>3003</th>\n",
       "      <td>3003</td>\n",
       "      <td>[смартфон, нормальный, экран, немой, тускловатый]</td>\n",
       "      <td>2024-10-30</td>\n",
       "      <td>3</td>\n",
       "      <td>0</td>\n",
       "      <td>0</td>\n",
       "    </tr>\n",
       "  </tbody>\n",
       "</table>\n",
       "<p>3004 rows × 6 columns</p>\n",
       "</div>"
      ],
      "text/plain": [
       "      Unnamed: 0                                        User review  \\\n",
       "0              0  [достоинство, всё, устроить, нормальный, демис...   \n",
       "1              1  [шикарный, начитаться, отзыв, рискнуть, что, б...   \n",
       "2              2                               [дочка, понравиться]   \n",
       "3              3               [пока, не, одевать, то, что, хотеть]   \n",
       "4              4                                 [отличный, куртка]   \n",
       "...          ...                                                ...   \n",
       "2999        2999  [гриль, хороший, сложно, чистить, решётка, так...   \n",
       "3000        3000  [тостер, работать, нормально, крутилка, слишко...   \n",
       "3001        3001  [чайник, хороший, крышка, чут-чуть, заедать, и...   \n",
       "3002        3002  [принтер, печатать, иногда, картридж, не, совс...   \n",
       "3003        3003  [смартфон, нормальный, экран, немой, тускловатый]   \n",
       "\n",
       "     Review date  Star review  Has answer  Written by bot  \n",
       "0     2024-10-09            5           0               0  \n",
       "1     2024-10-09            5           0               0  \n",
       "2     2024-10-09            5           0               0  \n",
       "3     2024-10-09            5           0               0  \n",
       "4     2024-10-09            5           0               0  \n",
       "...          ...          ...         ...             ...  \n",
       "2999  2024-10-06            4           1               0  \n",
       "3000  2024-12-08            3           1               0  \n",
       "3001  2024-12-13            4           1               0  \n",
       "3002  2024-11-21            4           1               0  \n",
       "3003  2024-10-30            3           0               0  \n",
       "\n",
       "[3004 rows x 6 columns]"
      ]
     },
     "execution_count": 7,
     "metadata": {},
     "output_type": "execute_result"
    }
   ],
   "source": [
    "df"
   ]
  },
  {
   "cell_type": "code",
   "execution_count": 7,
   "id": "R_FzLybdIZjG",
   "metadata": {
    "colab": {
     "base_uri": "https://localhost:8080/"
    },
    "id": "R_FzLybdIZjG",
    "outputId": "9d27da88-c4e2-44fb-b45a-f43d3a490ffe"
   },
   "outputs": [
    {
     "name": "stdout",
     "output_type": "stream",
     "text": [
      "Collecting fasttext\n",
      "  Downloading fasttext-0.9.3.tar.gz (73 kB)\n",
      "\u001b[?25l     \u001b[90m━━━━━━━━━━━━━━━━━━━━━━━━━━━━━━━━━━━━━━━━\u001b[0m \u001b[32m0.0/73.4 kB\u001b[0m \u001b[31m?\u001b[0m eta \u001b[36m-:--:--\u001b[0m\r\u001b[2K     \u001b[91m━━━━━━━━━━━━━━━━━━━━━━━━━━━━━━━━━━━━━━━\u001b[0m\u001b[90m╺\u001b[0m \u001b[32m71.7/73.4 kB\u001b[0m \u001b[31m2.1 MB/s\u001b[0m eta \u001b[36m0:00:01\u001b[0m\r\u001b[2K     \u001b[90m━━━━━━━━━━━━━━━━━━━━━━━━━━━━━━━━━━━━━━━━\u001b[0m \u001b[32m73.4/73.4 kB\u001b[0m \u001b[31m1.6 MB/s\u001b[0m eta \u001b[36m0:00:00\u001b[0m\n",
      "\u001b[?25h  Installing build dependencies ... \u001b[?25l\u001b[?25hdone\n",
      "  Getting requirements to build wheel ... \u001b[?25l\u001b[?25hdone\n",
      "  Preparing metadata (pyproject.toml) ... \u001b[?25l\u001b[?25hdone\n",
      "Collecting pybind11>=2.2 (from fasttext)\n",
      "  Using cached pybind11-2.13.6-py3-none-any.whl.metadata (9.5 kB)\n",
      "Requirement already satisfied: setuptools>=0.7.0 in /usr/local/lib/python3.11/dist-packages (from fasttext) (75.1.0)\n",
      "Requirement already satisfied: numpy in /usr/local/lib/python3.11/dist-packages (from fasttext) (1.26.4)\n",
      "Using cached pybind11-2.13.6-py3-none-any.whl (243 kB)\n",
      "Building wheels for collected packages: fasttext\n",
      "  Building wheel for fasttext (pyproject.toml) ... \u001b[?25l\u001b[?25hdone\n",
      "  Created wheel for fasttext: filename=fasttext-0.9.3-cp311-cp311-linux_x86_64.whl size=4313470 sha256=922ecd3208041ce3bccad19575f7cb2811ef783ce17cfbca7536146c42841fd0\n",
      "  Stored in directory: /root/.cache/pip/wheels/65/4f/35/5057db0249224e9ab55a513fa6b79451473ceb7713017823c3\n",
      "Successfully built fasttext\n",
      "Installing collected packages: pybind11, fasttext\n",
      "Successfully installed fasttext-0.9.3 pybind11-2.13.6\n"
     ]
    }
   ],
   "source": [
    "! pip install fasttext"
   ]
  },
  {
   "cell_type": "markdown",
   "id": "be7ca6177e5761a4",
   "metadata": {
    "id": "be7ca6177e5761a4"
   },
   "source": [
    "# FastText"
   ]
  },
  {
   "cell_type": "code",
   "execution_count": 8,
   "id": "CnGc4HkRJBAf",
   "metadata": {
    "id": "CnGc4HkRJBAf"
   },
   "outputs": [],
   "source": [
    "import fasttext\n",
    "import fasttext.util"
   ]
  },
  {
   "cell_type": "code",
   "execution_count": 3,
   "id": "evimedcMKZ5q",
   "metadata": {
    "colab": {
     "base_uri": "https://localhost:8080/",
     "height": 70
    },
    "id": "evimedcMKZ5q",
    "outputId": "644f8cb9-46fa-43e2-a77b-20a042ff3f87"
   },
   "outputs": [
    {
     "name": "stdout",
     "output_type": "stream",
     "text": [
      "Downloading https://dl.fbaipublicfiles.com/fasttext/vectors-crawl/cc.ru.300.bin.gz\n",
      " (100.00%) [==================================================>]                                                 ]>                                                  ]>                                                  ]>                                                  ]>                                                  ]>                                                  ]>                                                  ]>                                                  ]>                                                  ]>                                                  ]>                                                  ]>                                                  ]>                                                  ]>                                                  ]>                                                  ]>                                                  ]>                                                  ]>                                                  ]>                                                  ]>                                                  ]>                                                  ]>                                                  ]>                                                  ]>                                                  ]>                                                  ]>                                                  ]>                                                  ]>                                                  ]>                                                  ]>                                                  ]>                                                  ]>                                                  ]>                                                  ]>                                                  ]>                                                  ]>                                                  ]>                                                  ]>                                                  ]>                                                  ]>                                                  ]>                                                  ]>                                                  ]>                                                  ]>                                                  ]>                                                  ]>                                                  ]>                                                  ]>                                                  ]>                                                  ]>                                                  ]=>                                                 ]=>                                                 ]=>                                                 ]=>                                                 ]=>                                                 ]=>                                                 ]=>                                                 ]=>                                                 ]=>                                                 ]=>                                                 ]=>                                                 ]=>                                                 ]=>                                                 ]=>                                                 ]=>                                                 ]=>                                                 ]=>                                                 ]=>                                                 ]=>                                                 ]=>                                                 ]=>                                                 ]=>                                                 ]=>                                                 ]=>                                                 ]=>                                                 ]=>                                                 ]=>                                                 ]=>                                                 ]=>                                                 ]=>                                                 ]=>                                                 ]=>                                                 ]=>                                                 ]=>                                                 ]=>                                                 ]=>                                                 ]=>                                                 ]=>                                                 ]=>                                                 ]=>                                                 ]=>                                                 ]=>                                                 ]=>                                                 ]=>                                                 ]=>                                                 ]=>                                                 ]=>                                                 ]=>                                                 ]=>                                                 ]=>                                                 ]=>                                                 ]=>                                                 ]==>                                                ]==>                                                ]==>                                                ]==>                                                ]==>                                                ]==>                                                ]==>                                                ]==>                                                ]==>                                                ]==>                                                ]==>                                                ]==>                                                ]==>                                                ]==>                                                ]==>                                                ]==>                                                ]==>                                                ]==>                                                ]==>                                                ]==>                                                ]==>                                                ]==>                                                ]==>                                                ]==>                                                ]==>                                                ]==>                                                ]==>                                                ]==>                                                ]==>                                                ]==>                                                ]==>                                                ]==>                                                ]==>                                                ]==>                                                ]==>                                                ]==>                                                ]==>                                                ]==>                                                ]==>                                                ]==>                                                ]==>                                                ]==>                                                ]==>                                                ]==>                                                ]==>                                                ]==>                                                ]==>                                                ]==>                                                ]==>                                                ]==>                                                ]==>                                                ]==>                                                ]===>                                               ]===>                                               ]===>                                               ]===>                                               ]===>                                               ]===>                                               ]===>                                               ]===>                                               ]===>                                               ]===>                                               ]===>                                               ]===>                                               ]===>                                               ]===>                                               ]===>                                               ]===>                                               ]===>                                               ]===>                                               ]===>                                               ]===>                                               ]===>                                               ]===>                                               ]===>                                               ]===>                                               ]===>                                               ]===>                                               ]===>                                               ]===>                                               ]===>                                               ]===>                                               ]===>                                               ]===>                                               ]===>                                               ]===>                                               ]===>                                               ]===>                                               ]===>                                               ]===>                                               ]===>                                               ]===>                                               ]===>                                               ]===>                                               ]===>                                               ]===>                                               ]===>                                               ]===>                                               ]===>                                               ]===>                                               ]===>                                               ]===>                                               ]===>                                               ]===>                                               ]===>                                               ]===>                                               ]===>                                               ]===>                                               ]===>                                               ]===>                                               ]===>                                               ]===>                                               ]===>                                               ]===>                                               ]===>                                               ]===>                                               ]===>                                               ]===>                                               ]====>                                              ]====>                                              ]====>                                              ]====>                                              ]====>                                              ]====>                                              ]====>                                              ]====>                                              ]====>                                              ]====>                                              ]====>                                              ]====>                                              ]====>                                              ]====>                                              ]====>                                              ]====>                                              ]====>                                              ]====>                                              ]====>                                              ]====>                                              ]====>                                              ]====>                                              ]====>                                              ]====>                                              ]====>                                              ]====>                                              ]====>                                              ]====>                                              ]====>                                              ]====>                                              ]====>                                              ]====>                                              ]====>                                              ]====>                                              ]====>                                              ]====>                                              ]====>                                              ]====>                                              ]====>                                              ]====>                                              ]====>                                              ]=====>                                             ]=====>                                             ]=====>                                             ]=====>                                             ]=====>                                             ]=====>                                             ]=====>                                             ]=====>                                             ]=====>                                             ]=====>                                             ]=====>                                             ]=====>                                             ]=====>                                             ]=====>                                             ]=====>                                             ]=====>                                             ]=====>                                             ]=====>                                             ]=====>                                             ]=====>                                             ]=====>                                             ]=====>                                             ]=====>                                             ]=====>                                             ]=====>                                             ]=====>                                             ]=====>                                             ]=====>                                             ]=====>                                             ]=====>                                             ]=====>                                             ]=====>                                             ]=====>                                             ]=====>                                             ]=====>                                             ]=====>                                             ]=====>                                             ]=====>                                             ]=====>                                             ]=====>                                             ]=====>                                             ]=====>                                             ]=====>                                             ]=====>                                             ]=====>                                             ]=====>                                             ]=====>                                             ]=====>                                             ]=====>                                             ]=====>                                             ]=====>                                             ]=====>                                             ]======>                                            ]======>                                            ]======>                                            ]======>                                            ]======>                                            ]======>                                            ]======>                                            ]======>                                            ]======>                                            ]======>                                            ]======>                                            ]======>                                            ]======>                                            ]======>                                            ]======>                                            ]======>                                            ]======>                                            ]======>                                            ]======>                                            ]======>                                            ]======>                                            ]======>                                            ]======>                                            ]======>                                            ]======>                                            ]======>                                            ]======>                                            ]======>                                            ]======>                                            ]======>                                            ]======>                                            ]======>                                            ]======>                                            ]======>                                            ]======>                                            ]======>                                            ]======>                                            ]======>                                            ]======>                                            ]======>                                            ]======>                                            ]======>                                            ]======>                                            ]======>                                            ]======>                                            ]======>                                            ]======>                                            ]======>                                            ]======>                                            ]======>                                            ]======>                                            ]======>                                            ]======>                                            ]======>                                            ]======>                                            ]======>                                            ]======>                                            ]======>                                            ]======>                                            ]======>                                            ]======>                                            ]======>                                            ]======>                                            ]======>                                            ]======>                                            ]======>                                            ]======>                                            ]=======>                                           ]=======>                                           ]=======>                                           ]=======>                                           ]=======>                                           ]=======>                                           ]=======>                                           ]=======>                                           ]=======>                                           ]=======>                                           ]=======>                                           ]=======>                                           ]=======>                                           ]=======>                                           ]=======>                                           ]=======>                                           ]=======>                                           ]=======>                                           ]=======>                                           ]=======>                                           ]=======>                                           ]=======>                                           ]=======>                                           ]=======>                                           ]=======>                                           ]=======>                                           ]=======>                                           ]=======>                                           ]=======>                                           ]=======>                                           ]=======>                                           ]=======>                                           ]=======>                                           ]=======>                                           ]=======>                                           ]=======>                                           ]=======>                                           ]=======>                                           ]=======>                                           ]=======>                                           ]=======>                                           ]=======>                                           ]=======>                                           ]=======>                                           ]=======>                                           ]=======>                                           ]=======>                                           ]=======>                                           ]=======>                                           ]=======>                                           ]=======>                                           ]=======>                                           ]=======>                                           ]========>                                          ]========>                                          ]========>                                          ]========>                                          ]========>                                          ]========>                                          ]========>                                          ]========>                                          ]========>                                          ]========>                                          ]========>                                          ]========>                                          ]========>                                          ]========>                                          ]========>                                          ]========>                                          ]========>                                          ]========>                                          ]========>                                          ]========>                                          ]========>                                          ]========>                                          ]========>                                          ]========>                                          ]========>                                          ]========>                                          ]========>                                          ]========>                                          ]========>                                          ]========>                                          ]========>                                          ]========>                                          ]========>                                          ]========>                                          ]========>                                          ]========>                                          ]========>                                          ]========>                                          ]========>                                          ]========>                                          ]========>                                          ]========>                                          ]========>                                          ]========>                                          ]========>                                          ]========>                                          ]========>                                          ]========>                                          ]========>                                          ]========>                                          ]========>                                          ]========>                                          ]========>                                          ]========>                                          ]========>                                          ]========>                                          ]========>                                          ]=========>                                         ]=========>                                         ]=========>                                         ]=========>                                         ]=========>                                         ]=========>                                         ]=========>                                         ]=========>                                         ]=========>                                         ]=========>                                         ]=========>                                         ]=========>                                         ]=========>                                         ]=========>                                         ]=========>                                         ]=========>                                         ]=========>                                         ]=========>                                         ]=========>                                         ]=========>                                         ]=========>                                         ]=========>                                         ]=========>                                         ]=========>                                         ]=========>                                         ]=========>                                         ]=========>                                         ]=========>                                         ]=========>                                         ]=========>                                         ]=========>                                         ]=========>                                         ]=========>                                         ]=========>                                         ]=========>                                         ]=========>                                         ]=========>                                         ]=========>                                         ]=========>                                         ]=========>                                         ]=========>                                         ]=========>                                         ]=========>                                         ]=========>                                         ]=========>                                         ]=========>                                         ]=========>                                         ]=========>                                         ]=========>                                         ]=========>                                         ]==========>                                        ]==========>                                        ]==========>                                        ]==========>                                        ]==========>                                        ]==========>                                        ]==========>                                        ]==========>                                        ]==========>                                        ]==========>                                        ]==========>                                        ]==========>                                        ]==========>                                        ]==========>                                        ]==========>                                        ]==========>                                        ]==========>                                        ]==========>                                        ]==========>                                        ]==========>                                        ]==========>                                        ]==========>                                        ]==========>                                        ]==========>                                        ]==========>                                        ]==========>                                        ]==========>                                        ]==========>                                        ]==========>                                        ]==========>                                        ]==========>                                        ]==========>                                        ]==========>                                        ]==========>                                        ]==========>                                        ]==========>                                        ]==========>                                        ]==========>                                        ]==========>                                        ]==========>                                        ]===========>                                       ]===========>                                       ]===========>                                       ]===========>                                       ]===========>                                       ]===========>                                       ]===========>                                       ]===========>                                       ]===========>                                       ]===========>                                       ]===========>                                       ]===========>                                       ]===========>                                       ]===========>                                       ]===========>                                       ]===========>                                       ]===========>                                       ]===========>                                       ]===========>                                       ]===========>                                       ]===========>                                       ]===========>                                       ]===========>                                       ]===========>                                       ]===========>                                       ]===========>                                       ]===========>                                       ]===========>                                       ]===========>                                       ]===========>                                       ]===========>                                       ]===========>                                       ]===========>                                       ]===========>                                       ]===========>                                       ]===========>                                       ]===========>                                       ]===========>                                       ]===========>                                       ]===========>                                       ]===========>                                       ]===========>                                       ]===========>                                       ]===========>                                       ]===========>                                       ]===========>                                       ]===========>                                       ]===========>                                       ]===========>                                       ]===========>                                       ]============>                                      ]============>                                      ]============>                                      ]============>                                      ]============>                                      ]============>                                      ]============>                                      ]============>                                      ]============>                                      ]============>                                      ]============>                                      ]============>                                      ]============>                                      ]============>                                      ]============>                                      ]============>                                      ]============>                                      ]============>                                      ]============>                                      ]============>                                      ]============>                                      ]============>                                      ]============>                                      ]============>                                      ]============>                                      ]============>                                      ]============>                                      ]============>                                      ]============>                                      ]============>                                      ]============>                                      ]============>                                      ]============>                                      ]============>                                      ]============>                                      ]============>                                      ]============>                                      ]============>                                      ]============>                                      ]============>                                      ]============>                                      ]============>                                      ]============>                                      ]============>                                      ]============>                                      ]============>                                      ]============>                                      ]============>                                      ]============>                                      ]============>                                      ]============>                                      ]============>                                      ]============>                                      ]============>                                      ]============>                                      ]============>                                      ]============>                                      ]============>                                      ]============>                                      ]============>                                      ]=============>                                     ]=============>                                     ]=============>                                     ]=============>                                     ]=============>                                     ]=============>                                     ]=============>                                     ]=============>                                     ]=============>                                     ]=============>                                     ]=============>                                     ]=============>                                     ]=============>                                     ]=============>                                     ]=============>                                     ]=============>                                     ]=============>                                     ]=============>                                     ]=============>                                     ]=============>                                     ]=============>                                     ]=============>                                     ]=============>                                     ]=============>                                     ]=============>                                     ]=============>                                     ]=============>                                     ]=============>                                     ]=============>                                     ]=============>                                     ]=============>                                     ]=============>                                     ]=============>                                     ]=============>                                     ]=============>                                     ]=============>                                     ]=============>                                     ]=============>                                     ]=============>                                     ]=============>                                     ]=============>                                     ]=============>                                     ]=============>                                     ]=============>                                     ]=============>                                     ]=============>                                     ]=============>                                     ]==============>                                    ]==============>                                    ]==============>                                    ]==============>                                    ]==============>                                    ]==============>                                    ]==============>                                    ]==============>                                    ]==============>                                    ]==============>                                    ]==============>                                    ]==============>                                    ]==============>                                    ]==============>                                    ]==============>                                    ]==============>                                    ]==============>                                    ]==============>                                    ]==============>                                    ]==============>                                    ]==============>                                    ]==============>                                    ]==============>                                    ]==============>                                    ]==============>                                    ]==============>                                    ]==============>                                    ]==============>                                    ]==============>                                    ]==============>                                    ]==============>                                    ]==============>                                    ]==============>                                    ]==============>                                    ]==============>                                    ]==============>                                    ]==============>                                    ]==============>                                    ]==============>                                    ]==============>                                    ]==============>                                    ]==============>                                    ]==============>                                    ]==============>                                    ]==============>                                    ]===============>                                   ]===============>                                   ]===============>                                   ]===============>                                   ]===============>                                   ]===============>                                   ]===============>                                   ]===============>                                   ]===============>                                   ]===============>                                   ]===============>                                   ]===============>                                   ]===============>                                   ]===============>                                   ]===============>                                   ]===============>                                   ]===============>                                   ]===============>                                   ]===============>                                   ]===============>                                   ]===============>                                   ]===============>                                   ]===============>                                   ]===============>                                   ]===============>                                   ]===============>                                   ]===============>                                   ]===============>                                   ]===============>                                   ]===============>                                   ]===============>                                   ]===============>                                   ]===============>                                   ]===============>                                   ]===============>                                   ]===============>                                   ]===============>                                   ]===============>                                   ]===============>                                   ]===============>                                   ]===============>                                   ]===============>                                   ]===============>                                   ]===============>                                   ]===============>                                   ]===============>                                   ]===============>                                   ]===============>                                   ]===============>                                   ]===============>                                   ]===============>                                   ]================>                                  ]================>                                  ]================>                                  ]================>                                  ]================>                                  ]================>                                  ]================>                                  ]================>                                  ]================>                                  ]================>                                  ]================>                                  ]================>                                  ]================>                                  ]================>                                  ]================>                                  ]================>                                  ]================>                                  ]================>                                  ]================>                                  ]================>                                  ]================>                                  ]================>                                  ]================>                                  ]================>                                  ]================>                                  ]================>                                  ]================>                                  ]================>                                  ]================>                                  ]================>                                  ]================>                                  ]================>                                  ]================>                                  ]================>                                  ]================>                                  ]================>                                  ]================>                                  ]================>                                  ]================>                                  ]================>                                  ]================>                                  ]================>                                  ]================>                                  ]================>                                  ]================>                                  ]================>                                  ]================>                                  ]================>                                  ]================>                                  ]================>                                  ]================>                                  ]================>                                  ]================>                                  ]================>                                  ]================>                                  ]================>                                  ]================>                                  ]================>                                  ]================>                                  ]================>                                  ]================>                                  ]================>                                  ]================>                                  ]================>                                  ]================>                                  ]================>                                  ]================>                                  ]================>                                  ]================>                                  ]================>                                  ]================>                                  ]================>                                  ]================>                                  ]================>                                  ]================>                                  ]================>                                  ]================>                                  ]================>                                  ]================>                                  ]================>                                  ]================>                                  ]================>                                  ]================>                                  ]================>                                  ]================>                                  ]================>                                  ]================>                                  ]================>                                  ]================>                                  ]================>                                  ]================>                                  ]================>                                  ]=================>                                 ]=================>                                 ]=================>                                 ]=================>                                 ]=================>                                 ]=================>                                 ]=================>                                 ]=================>                                 ]=================>                                 ]=================>                                 ]=================>                                 ]=================>                                 ]=================>                                 ]=================>                                 ]=================>                                 ]=================>                                 ]=================>                                 ]=================>                                 ]=================>                                 ]=================>                                 ]=================>                                 ]=================>                                 ]=================>                                 ]=================>                                 ]=================>                                 ]=================>                                 ]=================>                                 ]=================>                                 ]=================>                                 ]=================>                                 ]=================>                                 ]=================>                                 ]=================>                                 ]=================>                                 ]=================>                                 ]=================>                                 ]=================>                                 ]=================>                                 ]=================>                                 ]=================>                                 ]=================>                                 ]=================>                                 ]=================>                                 ]=================>                                 ]=================>                                 ]=================>                                 ]=================>                                 ]=================>                                 ]=================>                                 ]=================>                                 ]=================>                                 ]=================>                                 ]=================>                                 ]=================>                                 ]=================>                                 ]=================>                                 ]=================>                                 ]==================>                                ]==================>                                ]==================>                                ]==================>                                ]==================>                                ]==================>                                ]==================>                                ]==================>                                ]==================>                                ]==================>                                ]==================>                                ]==================>                                ]==================>                                ]==================>                                ]==================>                                ]==================>                                ]==================>                                ]==================>                                ]==================>                                ]==================>                                ]==================>                                ]==================>                                ]==================>                                ]==================>                                ]==================>                                ]==================>                                ]==================>                                ]==================>                                ]==================>                                ]==================>                                ]==================>                                ]==================>                                ]==================>                                ]==================>                                ]==================>                                ]==================>                                ]==================>                                ]==================>                                ]==================>                                ]==================>                                ]==================>                                ]==================>                                ]==================>                                ]==================>                                ]==================>                                ]==================>                                ]==================>                                ]==================>                                ]==================>                                ]==================>                                ]==================>                                ]==================>                                ]==================>                                ]==================>                                ]==================>                                ]==================>                                ]==================>                                ]==================>                                ]==================>                                ]==================>                                ]==================>                                ]==================>                                ]==================>                                ]==================>                                ]==================>                                ]==================>                                ]==================>                                ]==================>                                ]==================>                                ]==================>                                ]===================>                               ]===================>                               ]===================>                               ]===================>                               ]===================>                               ]===================>                               ]===================>                               ]===================>                               ]===================>                               ]===================>                               ]===================>                               ]===================>                               ]===================>                               ]===================>                               ]===================>                               ]===================>                               ]===================>                               ]===================>                               ]===================>                               ]===================>                               ]===================>                               ]===================>                               ]===================>                               ]===================>                               ]===================>                               ]===================>                               ]===================>                               ]===================>                               ]===================>                               ]===================>                               ]===================>                               ]===================>                               ]===================>                               ]===================>                               ]===================>                               ]===================>                               ]===================>                               ]===================>                               ]===================>                               ]===================>                               ]===================>                               ]===================>                               ]===================>                               ]===================>                               ]===================>                               ]===================>                               ]===================>                               ]===================>                               ]===================>                               ]===================>                               ]===================>                               ]===================>                               ]===================>                               ]===================>                               ]===================>                               ]===================>                               ]===================>                               ]===================>                               ]===================>                               ]===================>                               ]===================>                               ]===================>                               ]===================>                               ]===================>                               ]===================>                               ]===================>                               ]===================>                               ]===================>                               ]===================>                               ]====================>                              ]====================>                              ]====================>                              ]====================>                              ]====================>                              ]====================>                              ]====================>                              ]====================>                              ]====================>                              ]====================>                              ]====================>                              ]====================>                              ]====================>                              ]====================>                              ]====================>                              ]====================>                              ]====================>                              ]====================>                              ]====================>                              ]====================>                              ]====================>                              ]====================>                              ]====================>                              ]====================>                              ]====================>                              ]====================>                              ]====================>                              ]====================>                              ]====================>                              ]====================>                              ]====================>                              ]====================>                              ]====================>                              ]====================>                              ]====================>                              ]====================>                              ]====================>                              ]====================>                              ]====================>                              ]====================>                              ]====================>                              ]====================>                              ]====================>                              ]====================>                              ]====================>                              ]====================>                              ]====================>                              ]====================>                              ]====================>                              ]====================>                              ]====================>                              ]====================>                              ]====================>                              ]====================>                              ]====================>                              ]====================>                              ]====================>                              ]====================>                              ]====================>                              ]====================>                              ]====================>                              ]====================>                              ]====================>                              ]====================>                              ]====================>                              ]====================>                              ]====================>                              ]====================>                              ]====================>                              ]====================>                              ]====================>                              ]====================>                              ]====================>                              ]====================>                              ]====================>                              ]====================>                              ]====================>                              ]=====================>                             ]=====================>                             ]=====================>                             ]=====================>                             ]=====================>                             ]=====================>                             ]=====================>                             ]=====================>                             ]=====================>                             ]=====================>                             ]=====================>                             ]=====================>                             ]=====================>                             ]=====================>                             ]=====================>                             ]=====================>                             ]=====================>                             ]=====================>                             ]=====================>                             ]=====================>                             ]=====================>                             ]=====================>                             ]=====================>                             ]=====================>                             ]=====================>                             ]=====================>                             ]=====================>                             ]=====================>                             ]=====================>                             ]=====================>                             ]=====================>                             ]=====================>                             ]=====================>                             ]=====================>                             ]=====================>                             ]=====================>                             ]=====================>                             ]=====================>                             ]=====================>                             ]=====================>                             ]=====================>                             ]=====================>                             ]=====================>                             ]=====================>                             ]=====================>                             ]=====================>                             ]=====================>                             ]=====================>                             ]=====================>                             ]=====================>                             ]=====================>                             ]=====================>                             ]=====================>                             ]=====================>                             ]=====================>                             ]=====================>                             ]=====================>                             ]======================>                            ]======================>                            ]======================>                            ]======================>                            ]======================>                            ]======================>                            ]======================>                            ]======================>                            ]======================>                            ]======================>                            ]======================>                            ]======================>                            ]======================>                            ]======================>                            ]======================>                            ]======================>                            ]======================>                            ]======================>                            ]======================>                            ]======================>                            ]======================>                            ]======================>                            ]======================>                            ]======================>                            ]======================>                            ]======================>                            ]======================>                            ]======================>                            ]======================>                            ]======================>                            ]======================>                            ]======================>                            ]======================>                            ]======================>                            ]======================>                            ]======================>                            ]======================>                            ]======================>                            ]======================>                            ]======================>                            ]======================>                            ]======================>                            ]======================>                            ]======================>                            ]======================>                            ]======================>                            ]======================>                            ]======================>                            ]======================>                            ]======================>                            ]=======================>                           ]=======================>                           ]=======================>                           ]=======================>                           ]=======================>                           ]=======================>                           ]=======================>                           ]=======================>                           ]=======================>                           ]=======================>                           ]=======================>                           ]=======================>                           ]=======================>                           ]=======================>                           ]=======================>                           ]=======================>                           ]=======================>                           ]=======================>                           ]=======================>                           ]=======================>                           ]=======================>                           ]=======================>                           ]=======================>                           ]=======================>                           ]=======================>                           ]=======================>                           ]=======================>                           ]=======================>                           ]=======================>                           ]=======================>                           ]=======================>                           ]=======================>                           ]=======================>                           ]=======================>                           ]=======================>                           ]=======================>                           ]=======================>                           ]=======================>                           ]=======================>                           ]=======================>                           ]=======================>                           ]=======================>                           ]=======================>                           ]=======================>                           ]=======================>                           ]=======================>                           ]=======================>                           ]=======================>                           ]=======================>                           ]=======================>                           ]=======================>                           ]=======================>                           ]=======================>                           ]=======================>                           ]=======================>                           ]=======================>                           ]=======================>                           ]=======================>                           ]=======================>                           ]=======================>                           ]=======================>                           ]=======================>                           ]=======================>                           ]=======================>                           ]=======================>                           ]=======================>                           ]=======================>                           ]=======================>                           ]=======================>                           ]=======================>                           ]=======================>                           ]========================>                          ]========================>                          ]========================>                          ]========================>                          ]========================>                          ]========================>                          ]========================>                          ]========================>                          ]========================>                          ]========================>                          ]========================>                          ]========================>                          ]========================>                          ]========================>                          ]========================>                          ]========================>                          ]========================>                          ]========================>                          ]========================>                          ]========================>                          ]========================>                          ]========================>                          ]========================>                          ]========================>                          ]========================>                          ]========================>                          ]========================>                          ]========================>                          ]========================>                          ]========================>                          ]========================>                          ]========================>                          ]========================>                          ]========================>                          ]========================>                          ]========================>                          ]========================>                          ]========================>                          ]========================>                          ]========================>                          ]========================>                          ]========================>                          ]========================>                          ]========================>                          ]========================>                          ]========================>                          ]========================>                          ]=========================>                         ]=========================>                         ]=========================>                         ]=========================>                         ]=========================>                         ]=========================>                         ]=========================>                         ]=========================>                         ]=========================>                         ]=========================>                         ]=========================>                         ]=========================>                         ]=========================>                         ]=========================>                         ]=========================>                         ]=========================>                         ]=========================>                         ]=========================>                         ]=========================>                         ]=========================>                         ]=========================>                         ]=========================>                         ]=========================>                         ]=========================>                         ]=========================>                         ]=========================>                         ]=========================>                         ]=========================>                         ]=========================>                         ]=========================>                         ]=========================>                         ]=========================>                         ]=========================>                         ]=========================>                         ]=========================>                         ]=========================>                         ]=========================>                         ]=========================>                         ]=========================>                         ]=========================>                         ]=========================>                         ]=========================>                         ]=========================>                         ]=========================>                         ]=========================>                         ]=========================>                         ]=========================>                         ]=========================>                         ]=========================>                         ]=========================>                         ]=========================>                         ]=========================>                         ]=========================>                         ]=========================>                         ]=========================>                         ]=========================>                         ]=========================>                         ]=========================>                         ]=========================>                         ]=========================>                         ]=========================>                         ]=========================>                         ]=========================>                         ]=========================>                         ]=========================>                         ]=========================>                         ]=========================>                         ]=========================>                         ]=========================>                         ]=========================>                         ]=========================>                         ]=========================>                         ]=========================>                         ]=========================>                         ]=========================>                         ]=========================>                         ]==========================>                        ]==========================>                        ]==========================>                        ]==========================>                        ]==========================>                        ]==========================>                        ]==========================>                        ]==========================>                        ]==========================>                        ]==========================>                        ]==========================>                        ]==========================>                        ]==========================>                        ]==========================>                        ]==========================>                        ]==========================>                        ]==========================>                        ]==========================>                        ]==========================>                        ]==========================>                        ]==========================>                        ]==========================>                        ]==========================>                        ]==========================>                        ]==========================>                        ]==========================>                        ]==========================>                        ]==========================>                        ]==========================>                        ]==========================>                        ]==========================>                        ]==========================>                        ]==========================>                        ]==========================>                        ]==========================>                        ]==========================>                        ]==========================>                        ]==========================>                        ]==========================>                        ]==========================>                        ]==========================>                        ]==========================>                        ]==========================>                        ]==========================>                        ]==========================>                        ]==========================>                        ]===========================>                       ]===========================>                       ]===========================>                       ]===========================>                       ]===========================>                       ]===========================>                       ]===========================>                       ]===========================>                       ]===========================>                       ]===========================>                       ]===========================>                       ]===========================>                       ]===========================>                       ]===========================>                       ]===========================>                       ]===========================>                       ]===========================>                       ]===========================>                       ]===========================>                       ]===========================>                       ]===========================>                       ]===========================>                       ]===========================>                       ]===========================>                       ]===========================>                       ]===========================>                       ]===========================>                       ]===========================>                       ]===========================>                       ]===========================>                       ]===========================>                       ]===========================>                       ]===========================>                       ]===========================>                       ]===========================>                       ]===========================>                       ]===========================>                       ]===========================>                       ]===========================>                       ]===========================>                       ]===========================>                       ]===========================>                       ]===========================>                       ]===========================>                       ]===========================>                       ]===========================>                       ]===========================>                       ]===========================>                       ]===========================>                       ]===========================>                       ]===========================>                       ]===========================>                       ]===========================>                       ]===========================>                       ]===========================>                       ]============================>                      ]============================>                      ]============================>                      ]============================>                      ]============================>                      ]============================>                      ]============================>                      ]============================>                      ]============================>                      ]============================>                      ]============================>                      ]============================>                      ]============================>                      ]============================>                      ]============================>                      ]============================>                      ]============================>                      ]============================>                      ]============================>                      ]============================>                      ]============================>                      ]============================>                      ]============================>                      ]============================>                      ]============================>                      ]============================>                      ]============================>                      ]============================>                      ]============================>                      ]============================>                      ]============================>                      ]============================>                      ]============================>                      ]============================>                      ]============================>                      ]============================>                      ]============================>                      ]============================>                      ]============================>                      ]============================>                      ]============================>                      ]============================>                      ]============================>                      ]============================>                      ]============================>                      ]============================>                      ]============================>                      ]============================>                      ]============================>                      ]============================>                      ]============================>                      ]============================>                      ]============================>                      ]============================>                      ]============================>                      ]============================>                      ]============================>                      ]============================>                      ]=============================>                     ]=============================>                     ]=============================>                     ]=============================>                     ]=============================>                     ]=============================>                     ]=============================>                     ]=============================>                     ]=============================>                     ]=============================>                     ]=============================>                     ]=============================>                     ]=============================>                     ]=============================>                     ]=============================>                     ]=============================>                     ]=============================>                     ]=============================>                     ]=============================>                     ]=============================>                     ]=============================>                     ]=============================>                     ]=============================>                     ]=============================>                     ]=============================>                     ]=============================>                     ]=============================>                     ]=============================>                     ]=============================>                     ]=============================>                     ]=============================>                     ]=============================>                     ]=============================>                     ]=============================>                     ]=============================>                     ]=============================>                     ]=============================>                     ]=============================>                     ]=============================>                     ]=============================>                     ]=============================>                     ]=============================>                     ]=============================>                     ]=============================>                     ]=============================>                     ]=============================>                     ]=============================>                     ]=============================>                     ]=============================>                     ]=============================>                     ]=============================>                     ]=============================>                     ]=============================>                     ]=============================>                     ]=============================>                     ]=============================>                     ]=============================>                     ]=============================>                     ]=============================>                     ]=============================>                     ]==============================>                    ]==============================>                    ]==============================>                    ]==============================>                    ]==============================>                    ]==============================>                    ]==============================>                    ]==============================>                    ]==============================>                    ]==============================>                    ]==============================>                    ]==============================>                    ]==============================>                    ]==============================>                    ]==============================>                    ]==============================>                    ]==============================>                    ]==============================>                    ]==============================>                    ]==============================>                    ]==============================>                    ]==============================>                    ]==============================>                    ]==============================>                    ]==============================>                    ]==============================>                    ]==============================>                    ]==============================>                    ]==============================>                    ]==============================>                    ]==============================>                    ]==============================>                    ]==============================>                    ]==============================>                    ]==============================>                    ]==============================>                    ]==============================>                    ]==============================>                    ]==============================>                    ]==============================>                    ]==============================>                    ]==============================>                    ]==============================>                    ]===============================>                   ]===============================>                   ]===============================>                   ]===============================>                   ]===============================>                   ]===============================>                   ]===============================>                   ]===============================>                   ]===============================>                   ]===============================>                   ]===============================>                   ]===============================>                   ]===============================>                   ]===============================>                   ]===============================>                   ]===============================>                   ]===============================>                   ]===============================>                   ]===============================>                   ]===============================>                   ]===============================>                   ]===============================>                   ]===============================>                   ]===============================>                   ]===============================>                   ]===============================>                   ]===============================>                   ]===============================>                   ]===============================>                   ]===============================>                   ]===============================>                   ]===============================>                   ]===============================>                   ]===============================>                   ]===============================>                   ]===============================>                   ]===============================>                   ]===============================>                   ]===============================>                   ]===============================>                   ]===============================>                   ]===============================>                   ]===============================>                   ]===============================>                   ]===============================>                   ]===============================>                   ]===============================>                   ]===============================>                   ]===============================>                   ]===============================>                   ]===============================>                   ]===============================>                   ]===============================>                   ]===============================>                   ]===============================>                   ]===============================>                   ]===============================>                   ]===============================>                   ]===============================>                   ]===============================>                   ]================================>                  ]================================>                  ]================================>                  ]================================>                  ]================================>                  ]================================>                  ]================================>                  ]================================>                  ]================================>                  ]================================>                  ]================================>                  ]================================>                  ]================================>                  ]================================>                  ]================================>                  ]================================>                  ]================================>                  ]================================>                  ]================================>                  ]================================>                  ]================================>                  ]================================>                  ]================================>                  ]================================>                  ]================================>                  ]================================>                  ]================================>                  ]================================>                  ]================================>                  ]================================>                  ]================================>                  ]================================>                  ]================================>                  ]================================>                  ]================================>                  ]================================>                  ]================================>                  ]================================>                  ]================================>                  ]================================>                  ]================================>                  ]================================>                  ]================================>                  ]================================>                  ]================================>                  ]================================>                  ]================================>                  ]================================>                  ]================================>                  ]================================>                  ]================================>                  ]================================>                  ]================================>                  ]================================>                  ]================================>                  ]================================>                  ]================================>                  ]================================>                  ]================================>                  ]================================>                  ]================================>                  ]================================>                  ]================================>                  ]================================>                  ]================================>                  ]================================>                  ]================================>                  ]================================>                  ]================================>                  ]================================>                  ]================================>                  ]================================>                  ]================================>                  ]================================>                  ]================================>                  ]================================>                  ]================================>                  ]================================>                  ]================================>                  ]================================>                  ]================================>                  ]================================>                  ]================================>                  ]================================>                  ]================================>                  ]================================>                  ]================================>                  ]=================================>                 ]=================================>                 ]=================================>                 ]=================================>                 ]=================================>                 ]=================================>                 ]=================================>                 ]=================================>                 ]=================================>                 ]=================================>                 ]=================================>                 ]=================================>                 ]=================================>                 ]=================================>                 ]=================================>                 ]=================================>                 ]=================================>                 ]=================================>                 ]=================================>                 ]=================================>                 ]=================================>                 ]=================================>                 ]=================================>                 ]=================================>                 ]=================================>                 ]=================================>                 ]=================================>                 ]=================================>                 ]=================================>                 ]=================================>                 ]=================================>                 ]=================================>                 ]=================================>                 ]=================================>                 ]=================================>                 ]=================================>                 ]=================================>                 ]=================================>                 ]=================================>                 ]=================================>                 ]=================================>                 ]=================================>                 ]=================================>                 ]=================================>                 ]=================================>                 ]=================================>                 ]=================================>                 ]=================================>                 ]=================================>                 ]=================================>                 ]=================================>                 ]=================================>                 ]=================================>                 ]=================================>                 ]=================================>                 ]=================================>                 ]=================================>                 ]=================================>                 ]=================================>                 ]=================================>                 ]=================================>                 ]==================================>                ]==================================>                ]==================================>                ]==================================>                ]==================================>                ]==================================>                ]==================================>                ]==================================>                ]==================================>                ]==================================>                ]==================================>                ]==================================>                ]==================================>                ]==================================>                ]==================================>                ]==================================>                ]==================================>                ]==================================>                ]==================================>                ]==================================>                ]==================================>                ]==================================>                ]==================================>                ]==================================>                ]==================================>                ]==================================>                ]==================================>                ]==================================>                ]==================================>                ]==================================>                ]==================================>                ]==================================>                ]==================================>                ]==================================>                ]==================================>                ]==================================>                ]==================================>                ]==================================>                ]==================================>                ]==================================>                ]==================================>                ]==================================>                ]==================================>                ]==================================>                ]==================================>                ]==================================>                ]==================================>                ]==================================>                ]==================================>                ]==================================>                ]==================================>                ]==================================>                ]==================================>                ]==================================>                ]==================================>                ]==================================>                ]===================================>               ]===================================>               ]===================================>               ]===================================>               ]===================================>               ]===================================>               ]===================================>               ]===================================>               ]===================================>               ]===================================>               ]===================================>               ]===================================>               ]===================================>               ]===================================>               ]===================================>               ]===================================>               ]===================================>               ]===================================>               ]===================================>               ]===================================>               ]===================================>               ]===================================>               ]===================================>               ]===================================>               ]===================================>               ]===================================>               ]===================================>               ]===================================>               ]===================================>               ]===================================>               ]===================================>               ]===================================>               ]===================================>               ]===================================>               ]===================================>               ]===================================>               ]===================================>               ]===================================>               ]===================================>               ]===================================>               ]===================================>               ]===================================>               ]===================================>               ]===================================>               ]===================================>               ]===================================>               ]===================================>               ]===================================>               ]===================================>               ]===================================>               ]===================================>               ]===================================>               ]===================================>               ]===================================>               ]====================================>              ]====================================>              ]====================================>              ]====================================>              ]====================================>              ]====================================>              ]====================================>              ]====================================>              ]====================================>              ]====================================>              ]====================================>              ]====================================>              ]====================================>              ]====================================>              ]====================================>              ]====================================>              ]====================================>              ]====================================>              ]====================================>              ]====================================>              ]====================================>              ]====================================>              ]====================================>              ]====================================>              ]====================================>              ]====================================>              ]====================================>              ]====================================>              ]====================================>              ]====================================>              ]====================================>              ]====================================>              ]====================================>              ]====================================>              ]====================================>              ]====================================>              ]====================================>              ]====================================>              ]====================================>              ]====================================>              ]====================================>              ]====================================>              ]====================================>              ]====================================>              ]====================================>              ]====================================>              ]====================================>              ]====================================>              ]====================================>              ]====================================>              ]====================================>              ]====================================>              ]====================================>              ]====================================>              ]====================================>              ]====================================>              ]====================================>              ]====================================>              ]====================================>              ]====================================>              ]====================================>              ]====================================>              ]====================================>              ]====================================>              ]====================================>              ]====================================>              ]====================================>              ]====================================>              ]====================================>              ]====================================>              ]====================================>              ]====================================>              ]====================================>              ]====================================>              ]====================================>              ]====================================>              ]====================================>              ]====================================>              ]====================================>              ]====================================>              ]=====================================>             ]=====================================>             ]=====================================>             ]=====================================>             ]=====================================>             ]=====================================>             ]=====================================>             ]=====================================>             ]=====================================>             ]=====================================>             ]=====================================>             ]=====================================>             ]=====================================>             ]=====================================>             ]=====================================>             ]=====================================>             ]=====================================>             ]=====================================>             ]=====================================>             ]=====================================>             ]=====================================>             ]=====================================>             ]=====================================>             ]=====================================>             ]=====================================>             ]=====================================>             ]=====================================>             ]=====================================>             ]=====================================>             ]=====================================>             ]=====================================>             ]=====================================>             ]=====================================>             ]=====================================>             ]=====================================>             ]=====================================>             ]=====================================>             ]=====================================>             ]=====================================>             ]=====================================>             ]=====================================>             ]=====================================>             ]=====================================>             ]=====================================>             ]=====================================>             ]=====================================>             ]=====================================>             ]=====================================>             ]=====================================>             ]=====================================>             ]=====================================>             ]=====================================>             ]=====================================>             ]=====================================>             ]=====================================>             ]=====================================>             ]=====================================>             ]=====================================>             ]=====================================>             ]=====================================>             ]=====================================>             ]=====================================>             ]======================================>            ]======================================>            ]======================================>            ]======================================>            ]======================================>            ]======================================>            ]======================================>            ]======================================>            ]======================================>            ]======================================>            ]======================================>            ]======================================>            ]======================================>            ]======================================>            ]======================================>            ]======================================>            ]======================================>            ]======================================>            ]======================================>            ]======================================>            ]======================================>            ]======================================>            ]======================================>            ]======================================>            ]======================================>            ]======================================>            ]======================================>            ]======================================>            ]======================================>            ]======================================>            ]======================================>            ]======================================>            ]======================================>            ]======================================>            ]======================================>            ]======================================>            ]======================================>            ]======================================>            ]=======================================>           ]=======================================>           ]=======================================>           ]=======================================>           ]=======================================>           ]=======================================>           ]=======================================>           ]=======================================>           ]=======================================>           ]=======================================>           ]=======================================>           ]=======================================>           ]=======================================>           ]=======================================>           ]=======================================>           ]=======================================>           ]=======================================>           ]=======================================>           ]=======================================>           ]=======================================>           ]=======================================>           ]=======================================>           ]=======================================>           ]=======================================>           ]=======================================>           ]=======================================>           ]=======================================>           ]=======================================>           ]=======================================>           ]=======================================>           ]=======================================>           ]=======================================>           ]=======================================>           ]=======================================>           ]=======================================>           ]=======================================>           ]=======================================>           ]=======================================>           ]=======================================>           ]=======================================>           ]=======================================>           ]=======================================>           ]=======================================>           ]=======================================>           ]=======================================>           ]=======================================>           ]=======================================>           ]=======================================>           ]=======================================>           ]=======================================>           ]=======================================>           ]=======================================>           ]=======================================>           ]=======================================>           ]=======================================>           ]=======================================>           ]=======================================>           ]=======================================>           ]=======================================>           ]=======================================>           ]=======================================>           ]=======================================>           ]=======================================>           ]========================================>          ]========================================>          ]========================================>          ]========================================>          ]========================================>          ]========================================>          ]========================================>          ]========================================>          ]========================================>          ]========================================>          ]========================================>          ]========================================>          ]========================================>          ]========================================>          ]========================================>          ]========================================>          ]========================================>          ]========================================>          ]========================================>          ]========================================>          ]========================================>          ]========================================>          ]=========================================>         ]=========================================>         ]=========================================>         ]=========================================>         ]=========================================>         ]=========================================>         ]=========================================>         ]=========================================>         ]=========================================>         ]=========================================>         ]=========================================>         ]=========================================>         ]=========================================>         ]=========================================>         ]=========================================>         ]=========================================>         ]=========================================>         ]=========================================>         ]=========================================>         ]=========================================>         ]=========================================>         ]=========================================>         ]=========================================>         ]=========================================>         ]=========================================>         ]=========================================>         ]=========================================>         ]=========================================>         ]=========================================>         ]=========================================>         ]=========================================>         ]=========================================>         ]=========================================>         ]=========================================>         ]=========================================>         ]==========================================>        ]==========================================>        ]==========================================>        ]==========================================>        ]==========================================>        ]==========================================>        ]==========================================>        ]==========================================>        ]==========================================>        ]==========================================>        ]==========================================>        ]==========================================>        ]==========================================>        ]==========================================>        ]==========================================>        ]==========================================>        ]==========================================>        ]==========================================>        ]==========================================>        ]==========================================>        ]==========================================>        ]==========================================>        ]==========================================>        ]==========================================>        ]==========================================>        ]==========================================>        ]==========================================>        ]==========================================>        ]==========================================>        ]==========================================>        ]==========================================>        ]==========================================>        ]==========================================>        ]==========================================>        ]==========================================>        ]==========================================>        ]==========================================>        ]==========================================>        ]==========================================>        ]==========================================>        ]==========================================>        ]==========================================>        ]==========================================>        ]==========================================>        ]==========================================>        ]==========================================>        ]==========================================>        ]==========================================>        ]==========================================>        ]==========================================>        ]==========================================>        ]==========================================>        ]==========================================>        ]==========================================>        ]==========================================>        ]==========================================>        ]===========================================>       ]===========================================>       ]===========================================>       ]===========================================>       ]===========================================>       ]===========================================>       ]===========================================>       ]===========================================>       ]===========================================>       ]===========================================>       ]===========================================>       ]===========================================>       ]===========================================>       ]===========================================>       ]===========================================>       ]===========================================>       ]===========================================>       ]===========================================>       ]===========================================>       ]===========================================>       ]===========================================>       ]===========================================>       ]===========================================>       ]===========================================>       ]===========================================>       ]===========================================>       ]===========================================>       ]===========================================>       ]===========================================>       ]===========================================>       ]===========================================>       ]===========================================>       ]===========================================>       ]===========================================>       ]===========================================>       ]===========================================>       ]===========================================>       ]===========================================>       ]===========================================>       ]===========================================>       ]===========================================>       ]===========================================>       ]===========================================>       ]===========================================>       ]============================================>      ]============================================>      ]============================================>      ]============================================>      ]============================================>      ]============================================>      ]============================================>      ]============================================>      ]============================================>      ]============================================>      ]============================================>      ]============================================>      ]============================================>      ]============================================>      ]============================================>      ]============================================>      ]============================================>      ]============================================>      ]============================================>      ]============================================>      ]============================================>      ]============================================>      ]============================================>      ]============================================>      ]============================================>      ]============================================>      ]============================================>      ]============================================>      ]============================================>      ]============================================>      ]============================================>      ]============================================>      ]============================================>      ]============================================>      ]============================================>      ]============================================>      ]============================================>      ]============================================>      ]============================================>      ]=============================================>     ]=============================================>     ]=============================================>     ]=============================================>     ]=============================================>     ]=============================================>     ]=============================================>     ]=============================================>     ]=============================================>     ]=============================================>     ]=============================================>     ]=============================================>     ]=============================================>     ]=============================================>     ]=============================================>     ]=============================================>     ]=============================================>     ]=============================================>     ]=============================================>     ]=============================================>     ]=============================================>     ]=============================================>     ]=============================================>     ]=============================================>     ]=============================================>     ]=============================================>     ]=============================================>     ]=============================================>     ]=============================================>     ]=============================================>     ]=============================================>     ]=============================================>     ]=============================================>     ]=============================================>     ]=============================================>     ]=============================================>     ]=============================================>     ]=============================================>     ]=============================================>     ]=============================================>     ]=============================================>     ]=============================================>     ]=============================================>     ]=============================================>     ]=============================================>     ]=============================================>     ]=============================================>     ]=============================================>     ]=============================================>     ]=============================================>     ]=============================================>     ]=============================================>     ]=============================================>     ]==============================================>    ]==============================================>    ]==============================================>    ]==============================================>    ]==============================================>    ]==============================================>    ]==============================================>    ]==============================================>    ]==============================================>    ]==============================================>    ]==============================================>    ]==============================================>    ]==============================================>    ]==============================================>    ]==============================================>    ]==============================================>    ]==============================================>    ]==============================================>    ]==============================================>    ]==============================================>    ]==============================================>    ]==============================================>    ]==============================================>    ]==============================================>    ]==============================================>    ]==============================================>    ]==============================================>    ]==============================================>    ]==============================================>    ]==============================================>    ]==============================================>    ]==============================================>    ]==============================================>    ]==============================================>    ]==============================================>    ]==============================================>    ]==============================================>    ]==============================================>    ]==============================================>    ]==============================================>    ]==============================================>    ]==============================================>    ]==============================================>    ]==============================================>    ]==============================================>    ]==============================================>    ]==============================================>    ]==============================================>    ]==============================================>    ]==============================================>    ]==============================================>    ]==============================================>    ]==============================================>    ]==============================================>    ]==============================================>    ]==============================================>    ]==============================================>    ]==============================================>    ]==============================================>    ]==============================================>    ]==============================================>    ]==============================================>    ]==============================================>    ]==============================================>    ]==============================================>    ]==============================================>    ]==============================================>    ]==============================================>    ]==============================================>    ]==============================================>    ]==============================================>    ]==============================================>    ]===============================================>   ]===============================================>   ]===============================================>   ]===============================================>   ]===============================================>   ]===============================================>   ]===============================================>   ]===============================================>   ]===============================================>   ]===============================================>   ]===============================================>   ]===============================================>   ]===============================================>   ]===============================================>   ]===============================================>   ]===============================================>   ]===============================================>   ]===============================================>   ]===============================================>   ]===============================================>   ]===============================================>   ]===============================================>   ]===============================================>   ]===============================================>   ]===============================================>   ]===============================================>   ]===============================================>   ]===============================================>   ]===============================================>   ]===============================================>   ]===============================================>   ]===============================================>   ]===============================================>   ]================================================>  ]================================================>  ]================================================>  ]================================================>  ]================================================>  ]================================================>  ]================================================>  ]================================================>  ]================================================>  ]================================================>  ]================================================>  ]================================================>  ]================================================>  ]================================================>  ]================================================>  ]================================================>  ]================================================>  ]================================================>  ]================================================>  ]================================================>  ]================================================>  ]================================================>  ]================================================>  ]================================================>  ]================================================>  ]================================================>  ]================================================>  ]================================================>  ]================================================>  ]================================================>  ]================================================>  ]================================================>  ]================================================>  ]================================================>  ]================================================>  ]================================================>  ]================================================>  ]=================================================> ]=================================================> ]=================================================> ]=================================================> ]=================================================> ]=================================================> ]=================================================> ]=================================================> ]=================================================> ]=================================================> ]=================================================> ]=================================================> ]=================================================> ]=================================================> ]=================================================> ]=================================================> ]=================================================> ]=================================================> ]=================================================> ]=================================================> ]=================================================> ]=================================================> ]=================================================> ]=================================================> ]=================================================> ]=================================================> ]=================================================> ]=================================================> ]=================================================> ]=================================================> ]=================================================> ]=================================================> ]=================================================> ]=================================================> ]=================================================> ]=================================================> ]=================================================> ]=================================================> ]=================================================> ]=================================================> ]=================================================> ]=================================================> ]=================================================> ]=================================================> ]=================================================> ]=================================================> ]=================================================> ]=================================================> ]=================================================> ]=================================================> ]=================================================> ]=================================================> ]\n"
     ]
    },
    {
     "data": {
      "text/plain": [
       "'cc.ru.300.bin'"
      ]
     },
     "execution_count": 3,
     "metadata": {},
     "output_type": "execute_result"
    }
   ],
   "source": [
    "fasttext.util.download_model('ru', if_exists='ignore')"
   ]
  },
  {
   "cell_type": "code",
   "execution_count": 9,
   "id": "JDcUNpYRJD8c",
   "metadata": {
    "id": "JDcUNpYRJD8c"
   },
   "outputs": [
    {
     "name": "stderr",
     "output_type": "stream",
     "text": [
      "Warning : `load_model` does not return WordVectorModel or SupervisedModel any more, but a `FastText` object which is very similar.\n"
     ]
    }
   ],
   "source": [
    "model = fasttext.load_model('/home/yuri/Рабочий стол/Review AI/models/cc.ru.300.bin')"
   ]
  },
  {
   "cell_type": "code",
   "execution_count": 10,
   "id": "dybg0fiPPtD6",
   "metadata": {
    "id": "dybg0fiPPtD6"
   },
   "outputs": [],
   "source": [
    "def tokens_to_vector(tokens, model):\n",
    "  sentence = ' '.join(tokens)\n",
    "  return model.get_sentence_vector(sentence)"
   ]
  },
  {
   "cell_type": "code",
   "execution_count": 11,
   "id": "sVdrHxr6QDGz",
   "metadata": {
    "id": "sVdrHxr6QDGz"
   },
   "outputs": [],
   "source": [
    "df['User review'] = df['User review'].apply(lambda x: tokens_to_vector(x, model))"
   ]
  },
  {
   "cell_type": "code",
   "execution_count": 12,
   "id": "bJ28OVdGQWu0",
   "metadata": {
    "colab": {
     "base_uri": "https://localhost:8080/",
     "height": 206
    },
    "id": "bJ28OVdGQWu0",
    "outputId": "59585df9-e291-4e80-eeb3-d2d43c678f2e"
   },
   "outputs": [
    {
     "data": {
      "text/html": [
       "<div>\n",
       "<style scoped>\n",
       "    .dataframe tbody tr th:only-of-type {\n",
       "        vertical-align: middle;\n",
       "    }\n",
       "\n",
       "    .dataframe tbody tr th {\n",
       "        vertical-align: top;\n",
       "    }\n",
       "\n",
       "    .dataframe thead th {\n",
       "        text-align: right;\n",
       "    }\n",
       "</style>\n",
       "<table border=\"1\" class=\"dataframe\">\n",
       "  <thead>\n",
       "    <tr style=\"text-align: right;\">\n",
       "      <th></th>\n",
       "      <th>Unnamed: 0</th>\n",
       "      <th>User review</th>\n",
       "      <th>Review date</th>\n",
       "      <th>Star review</th>\n",
       "      <th>Has answer</th>\n",
       "      <th>Written by bot</th>\n",
       "    </tr>\n",
       "  </thead>\n",
       "  <tbody>\n",
       "    <tr>\n",
       "      <th>0</th>\n",
       "      <td>0</td>\n",
       "      <td>[0.022656826, -0.027004633, 0.043031316, -0.01...</td>\n",
       "      <td>2024-10-09</td>\n",
       "      <td>5</td>\n",
       "      <td>0</td>\n",
       "      <td>0</td>\n",
       "    </tr>\n",
       "    <tr>\n",
       "      <th>1</th>\n",
       "      <td>1</td>\n",
       "      <td>[0.008478685, -0.0106503675, 0.026828315, 0.02...</td>\n",
       "      <td>2024-10-09</td>\n",
       "      <td>5</td>\n",
       "      <td>0</td>\n",
       "      <td>0</td>\n",
       "    </tr>\n",
       "    <tr>\n",
       "      <th>2</th>\n",
       "      <td>2</td>\n",
       "      <td>[0.016530212, -0.015162222, 0.025566535, -0.00...</td>\n",
       "      <td>2024-10-09</td>\n",
       "      <td>5</td>\n",
       "      <td>0</td>\n",
       "      <td>0</td>\n",
       "    </tr>\n",
       "    <tr>\n",
       "      <th>3</th>\n",
       "      <td>3</td>\n",
       "      <td>[0.01522894, -0.0024559777, 0.0111161135, 0.04...</td>\n",
       "      <td>2024-10-09</td>\n",
       "      <td>5</td>\n",
       "      <td>0</td>\n",
       "      <td>0</td>\n",
       "    </tr>\n",
       "    <tr>\n",
       "      <th>4</th>\n",
       "      <td>4</td>\n",
       "      <td>[0.08588806, 0.012010971, 0.047707174, -0.0111...</td>\n",
       "      <td>2024-10-09</td>\n",
       "      <td>5</td>\n",
       "      <td>0</td>\n",
       "      <td>0</td>\n",
       "    </tr>\n",
       "  </tbody>\n",
       "</table>\n",
       "</div>"
      ],
      "text/plain": [
       "   Unnamed: 0                                        User review Review date  \\\n",
       "0           0  [0.022656826, -0.027004633, 0.043031316, -0.01...  2024-10-09   \n",
       "1           1  [0.008478685, -0.0106503675, 0.026828315, 0.02...  2024-10-09   \n",
       "2           2  [0.016530212, -0.015162222, 0.025566535, -0.00...  2024-10-09   \n",
       "3           3  [0.01522894, -0.0024559777, 0.0111161135, 0.04...  2024-10-09   \n",
       "4           4  [0.08588806, 0.012010971, 0.047707174, -0.0111...  2024-10-09   \n",
       "\n",
       "   Star review  Has answer  Written by bot  \n",
       "0            5           0               0  \n",
       "1            5           0               0  \n",
       "2            5           0               0  \n",
       "3            5           0               0  \n",
       "4            5           0               0  "
      ]
     },
     "execution_count": 12,
     "metadata": {},
     "output_type": "execute_result"
    }
   ],
   "source": [
    "df.head()"
   ]
  },
  {
   "cell_type": "code",
   "execution_count": 13,
   "id": "6gbY6MmnQlpH",
   "metadata": {
    "id": "6gbY6MmnQlpH"
   },
   "outputs": [],
   "source": [
    "df.to_pickle('fasttext.pickle')"
   ]
  },
  {
   "cell_type": "code",
   "execution_count": 23,
   "id": "lK8Hl7AnQ3ly",
   "metadata": {
    "colab": {
     "base_uri": "https://localhost:8080/",
     "height": 17
    },
    "id": "lK8Hl7AnQ3ly",
    "outputId": "68fcd01f-2c3b-4835-e96c-b3634660d1d5"
   },
   "outputs": [
    {
     "data": {
      "application/javascript": "\n    async function download(id, filename, size) {\n      if (!google.colab.kernel.accessAllowed) {\n        return;\n      }\n      const div = document.createElement('div');\n      const label = document.createElement('label');\n      label.textContent = `Downloading \"${filename}\": `;\n      div.appendChild(label);\n      const progress = document.createElement('progress');\n      progress.max = size;\n      div.appendChild(progress);\n      document.body.appendChild(div);\n\n      const buffers = [];\n      let downloaded = 0;\n\n      const channel = await google.colab.kernel.comms.open(id);\n      // Send a message to notify the kernel that we're ready.\n      channel.send({})\n\n      for await (const message of channel.messages) {\n        // Send a message to notify the kernel that we're ready.\n        channel.send({})\n        if (message.buffers) {\n          for (const buffer of message.buffers) {\n            buffers.push(buffer);\n            downloaded += buffer.byteLength;\n            progress.value = downloaded;\n          }\n        }\n      }\n      const blob = new Blob(buffers, {type: 'application/binary'});\n      const a = document.createElement('a');\n      a.href = window.URL.createObjectURL(blob);\n      a.download = filename;\n      div.appendChild(a);\n      a.click();\n      div.remove();\n    }\n  ",
      "text/plain": [
       "<IPython.core.display.Javascript object>"
      ]
     },
     "metadata": {},
     "output_type": "display_data"
    },
    {
     "data": {
      "application/javascript": "download(\"download_28c0feb1-0439-4420-bf72-63215945acaf\", \"fasttext.pickle\", 3092831)",
      "text/plain": [
       "<IPython.core.display.Javascript object>"
      ]
     },
     "metadata": {},
     "output_type": "display_data"
    }
   ],
   "source": [
    "from google.colab import files\n",
    "files.download('fasttext.pickle')"
   ]
  },
  {
   "cell_type": "code",
   "execution_count": 16,
   "id": "23f961c1794ffdc2",
   "metadata": {
    "ExecuteTime": {
     "end_time": "2025-02-22T08:18:27.755722Z",
     "start_time": "2025-02-22T08:18:27.741632Z"
    }
   },
   "outputs": [
    {
     "name": "stdout",
     "output_type": "stream",
     "text": [
      "['достоинства', 'все', 'устроило', 'нормальная', 'демисезонка']\n",
      "5\n",
      "54\n",
      "0\n",
      "<class 'int'>\n"
     ]
    }
   ],
   "source": [
    "for index, row in df.iterrows():\n",
    "  print(f'{row[\"User review\"]}')\n",
    "  print(f'{row[\"Star review\"]}')\n",
    "  print(f'{row[\"Text length\"]}')\n",
    "  print(f'{row[\"Has media\"]}')\n",
    "  print(f'{type(row[\"Has answer\"])}')\n",
    "  break"
   ]
  },
  {
   "cell_type": "code",
   "execution_count": null,
   "id": "4b59dee620231705",
   "metadata": {},
   "outputs": [],
   "source": []
  }
 ],
 "metadata": {
  "colab": {
   "provenance": []
  },
  "kernelspec": {
   "display_name": "venv",
   "language": "python",
   "name": "python3"
  },
  "language_info": {
   "codemirror_mode": {
    "name": "ipython",
    "version": 3
   },
   "file_extension": ".py",
   "mimetype": "text/x-python",
   "name": "python",
   "nbconvert_exporter": "python",
   "pygments_lexer": "ipython3",
   "version": "3.10.16"
  }
 },
 "nbformat": 4,
 "nbformat_minor": 5
}
